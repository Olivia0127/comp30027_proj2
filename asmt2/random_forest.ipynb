{
 "cells": [
  {
   "cell_type": "code",
   "execution_count": 17,
   "metadata": {},
   "outputs": [],
   "source": [
    "# import librart\n",
    "import sklearn\n",
    "import numpy\n",
    "import pandas as pd\n",
    "import pickle\n",
    "from scipy.sparse import hstack\n",
    "from sklearn.model_selection import train_test_split\n",
    "from sklearn.ensemble import RandomForestClassifier\n",
    "from sklearn.metrics import accuracy_score\n",
    "import scipy\n",
    "from scipy.sparse import csr_matrix\n",
    "from sklearn.feature_selection import SelectKBest, mutual_info_classif\n",
    "import feature_select"
   ]
  },
  {
   "cell_type": "code",
   "execution_count": 18,
   "metadata": {},
   "outputs": [],
   "source": [
    "# use countvectorizer\n",
    "# use countvectorizer\n",
    "# use countvectorizer\n",
    "# use countvectorizer\n",
    "\n",
    "# import data\n",
    "train_df = pd.read_csv(\"./project_data_files/book_rating_train.csv\")\n",
    "test_df = pd.read_csv(\"./project_data_files/book_rating_test.csv\")\n",
    "\n",
    "# train_name_countvectorizer\n",
    "train_name_countvectorizer = pickle.load(open(\"./project_data_files/book_text_features_countvec/train_name_countvectorizer.pkl\", \"rb\"))\n",
    "train_name_dic = train_name_countvectorizer.vocabulary_\n",
    "\n",
    "# train_authors_countvectorizer\n",
    "train_authors_countvectorizer = pickle.load(open(\"./project_data_files/book_text_features_countvec/train_authors_countvectorizer.pkl\", \"rb\"))\n",
    "train_authors_dic = train_authors_countvectorizer.vocabulary_\n",
    "\n",
    "# train_desc_countvectorizer\n",
    "train_desc_countvectorizer = pickle.load(open(\"./project_data_files/book_text_features_countvec/train_desc_countvectorizer.pkl\", \"rb\"))\n",
    "train_desc__dic = train_desc_countvectorizer.vocabulary_\n",
    "\n",
    "# process vector features\n",
    "train_name_features = train_name_countvectorizer.transform(train_df['Name'])\n",
    "train_authors_features = train_authors_countvectorizer.transform(train_df['Authors'])\n",
    "train_desc_features = train_desc_countvectorizer.transform(train_df['Description'])\n",
    "other_features_df = train_df.drop(columns=['Name', 'Authors', 'Description', 'Publisher', 'Language', 'rating_label'])\n",
    "# new sparse features\n",
    "sparse_features = hstack([train_name_features, train_authors_features, train_desc_features])\n",
    "# new train features\n",
    "dense_features = csr_matrix(other_features_df.values)\n",
    "train_features = hstack([sparse_features, dense_features])\n",
    "\n",
    "\n",
    "# process test features\n",
    "test_name_features = scipy.sparse.load_npz('./project_data_files/book_text_features_countvec/test_name_vec.npz')\n",
    "test_authors_features = scipy.sparse.load_npz('./project_data_files/book_text_features_countvec/test_authors_vec.npz')\n",
    "test_desc_features = scipy.sparse.load_npz('./project_data_files/book_text_features_countvec/test_desc_vec.npz')\n",
    "test_other_features_df = test_df.drop(columns=['Name', 'Authors', 'Description', 'Publisher', 'Language'])\n",
    "\n",
    "test_sparse_features = hstack([test_name_features, test_authors_features, test_desc_features])\n",
    "new_dense_features = csr_matrix(test_other_features_df.values)\n",
    "test_features = hstack([test_sparse_features, new_dense_features])\n",
    "\n"
   ]
  },
  {
   "cell_type": "code",
   "execution_count": null,
   "metadata": {},
   "outputs": [],
   "source": [
    "# use countvectorizer\n",
    "# use countvectorizer\n",
    "# use countvectorizer\n",
    "# use countvectorizer\n",
    "\n",
    "\n",
    "# split train and testing dataset\n",
    "X_train, X_val, y_train, y_val = train_test_split(train_features, train_df[\"rating_label\"], test_size=0.2, random_state=42)\n",
    "# random forest\n",
    "rf = RandomForestClassifier(n_estimators=100, random_state=42)\n",
    "rf.fit(X_train, y_train)\n",
    "\n",
    "\n",
    "\n",
    "evaluate_pred = rf.predict(X_val)\n",
    "\n",
    "# evaluate\n",
    "accuracy = accuracy_score(y_val, evaluate_pred)\n",
    "print('Validation Accuracy: ', accuracy)\n",
    "\n",
    "\n",
    "y_pred = rf.predict(test_features)\n",
    "output_df = pd.DataFrame({'rating_label': y_pred})\n",
    "output_df.index += 1\n",
    "output_df.index.name = 'id'\n",
    "output_df.to_csv('./predictions.csv')\n"
   ]
  },
  {
   "cell_type": "code",
   "execution_count": null,
   "metadata": {},
   "outputs": [],
   "source": [
    "# use doc2vec\n",
    "# use doc2vec\n",
    "# use doc2vec\n",
    "# use doc2vec\n",
    "\n",
    "# import data\n",
    "train_df = pd.read_csv(\"./project_data_files/book_rating_train.csv\")\n",
    "test_df = pd.read_csv(\"./project_data_files/book_rating_test.csv\")\n",
    "\n",
    "\n",
    "\n",
    "# process vector features\n",
    "train_name_features = pd.read_csv(r\"./project_data_files/book_text_features_doc2vec/train_name_doc2vec100.csv\", index_col = False, delimiter = ',', header=None)\n",
    "train_authors_features = pd.read_csv(r\"./project_data_files/book_text_features_doc2vec/train_authors_doc2vec20.csv\", index_col = False, delimiter = ',', header=None)\n",
    "train_desc_features = pd.read_csv(r\"./project_data_files/book_text_features_doc2vec/train_desc_doc2vec100.csv\", index_col = False, delimiter = ',', header=None)\n",
    "other_features_df = train_df.drop(columns=['Name', 'Authors', 'Description', 'Publisher', 'Language', 'rating_label'])\n",
    "train_features = pd.concat([train_name_features, train_authors_features, train_desc_features, other_features_df], axis=1)\n"
   ]
  },
  {
   "cell_type": "code",
   "execution_count": null,
   "metadata": {},
   "outputs": [],
   "source": [
    "# use doc2vec\n",
    "# use doc2vec\n",
    "# use doc2vec\n",
    "# use doc2vec\n",
    "\n",
    "# process test features\n",
    "test_name_features = pd.read_csv(r\"./project_data_files/book_text_features_doc2vec/test_name_doc2vec100.csv\", index_col = False, delimiter = ',', header=None)\n",
    "test_authors_features = pd.read_csv(r\"./project_data_files/book_text_features_doc2vec/test_authors_doc2vec20.csv\", index_col = False, delimiter = ',', header=None)\n",
    "test_desc_features = pd.read_csv(r\"./project_data_files/book_text_features_doc2vec/test_desc_doc2vec100.csv\", index_col = False, delimiter = ',', header=None)\n",
    "test_other_features_df = test_df.drop(columns=['Name', 'Authors', 'Description', 'Publisher', 'Language'])\n",
    "test_features = pd.concat([test_name_features, test_authors_features, test_desc_features, test_other_features_df], axis=1)\n",
    "# split train and testing dataset\n",
    "X_train, X_val, y_train, y_val = train_test_split(train_features, train_df[\"rating_label\"], test_size=0.2, random_state=42)\n",
    "# random forest\n",
    "rf = RandomForestClassifier(n_estimators=100, random_state=42)\n",
    "rf.fit(X_train, y_train)\n",
    "\n",
    "\n",
    "\n",
    "evaluate_pred = rf.predict(X_val)\n",
    "\n",
    "# evaluate\n",
    "accuracy = accuracy_score(y_val, evaluate_pred)\n",
    "print('Validation Accuracy: ', accuracy)\n",
    "\n",
    "\n",
    "y_pred = rf.predict(test_features)\n",
    "output_df = pd.DataFrame({'rating_label': y_pred})\n",
    "output_df.index += 1\n",
    "output_df.index.name = 'id'\n",
    "output_df.to_csv('./predictions.csv')\n"
   ]
  },
  {
   "cell_type": "code",
   "execution_count": 22,
   "metadata": {},
   "outputs": [
    {
     "name": "stdout",
     "output_type": "stream",
     "text": [
      "Validation Accuracy:  0.7229568610448732\n"
     ]
    }
   ],
   "source": [
    "# use countvectorizer\n",
    "# use countvectorizer\n",
    "# use countvectorizer\n",
    "# use countvectorizer\n",
    "# mutualInformation selection\n",
    "\n",
    "\n",
    "selected_features,selected_features_test = feature_select.MI(train_df,train_features,test_features,1000)\n",
    "\n",
    "\n",
    "X_train, X_val, y_train, y_val = train_test_split(selected_features, train_df[\"rating_label\"], test_size=0.2, random_state=66)\n",
    "# random forest\n",
    "rf = RandomForestClassifier(n_estimators=1500)\n",
    "rf.fit(X_train, y_train)\n",
    "\n",
    "\n",
    "\n",
    "evaluate_pred = rf.predict(X_val)\n",
    "\n",
    "# evaluate\n",
    "accuracy = accuracy_score(y_val, evaluate_pred)\n",
    "print('Validation Accuracy: ', accuracy)"
   ]
  },
  {
   "cell_type": "code",
   "execution_count": 23,
   "metadata": {},
   "outputs": [
    {
     "data": {
      "text/plain": [
       "scipy.sparse._csr.csr_matrix"
      ]
     },
     "execution_count": 23,
     "metadata": {},
     "output_type": "execute_result"
    }
   ],
   "source": [
    "type(selected_features_test)"
   ]
  },
  {
   "cell_type": "code",
   "execution_count": 24,
   "metadata": {},
   "outputs": [],
   "source": [
    "y_pred = rf.predict(selected_features_test)\n",
    "output_df = pd.DataFrame({'rating_label': y_pred})\n",
    "output_df.index += 1\n",
    "output_df.index.name = 'id'\n",
    "output_df.to_csv('./predictions.csv')"
   ]
  },
  {
   "cell_type": "code",
   "execution_count": 25,
   "metadata": {},
   "outputs": [
    {
     "name": "stdout",
     "output_type": "stream",
     "text": [
      "Validation Accuracy:  0.6984608714502493\n"
     ]
    }
   ],
   "source": [
    "# use countvectorizer\n",
    "# use countvectorizer\n",
    "# use countvectorizer\n",
    "# use countvectorizer\n",
    "# chi2 selection\n",
    "\n",
    "selected_features,selected_features_test = feature_select.chi_square(train_df,train_features,test_features,1000)\n",
    "\n",
    "\n",
    "X_train, X_val, y_train, y_val = train_test_split(selected_features, train_df[\"rating_label\"], test_size=0.2, random_state=66)\n",
    "# random forest\n",
    "rf = RandomForestClassifier(n_estimators=1500)\n",
    "rf.fit(X_train, y_train)\n",
    "\n",
    "\n",
    "\n",
    "evaluate_pred = rf.predict(X_val)\n",
    "\n",
    "# evaluate\n",
    "accuracy = accuracy_score(y_val, evaluate_pred)\n",
    "print('Validation Accuracy: ', accuracy)"
   ]
  },
  {
   "cell_type": "code",
   "execution_count": null,
   "metadata": {},
   "outputs": [],
   "source": [
    "# export predction\n",
    "y_pred = rf.predict(selected_features_test)\n",
    "output_df = pd.DataFrame({'rating_label': y_pred})\n",
    "output_df.index += 1\n",
    "output_df.index.name = 'id'\n",
    "output_df.to_csv('./predictions.csv')"
   ]
  },
  {
   "cell_type": "code",
   "execution_count": null,
   "metadata": {},
   "outputs": [],
   "source": []
  }
 ],
 "metadata": {
  "kernelspec": {
   "display_name": "Python 3",
   "language": "python",
   "name": "python3"
  },
  "language_info": {
   "codemirror_mode": {
    "name": "ipython",
    "version": 3
   },
   "file_extension": ".py",
   "mimetype": "text/x-python",
   "name": "python",
   "nbconvert_exporter": "python",
   "pygments_lexer": "ipython3",
   "version": "3.9.13"
  },
  "orig_nbformat": 4
 },
 "nbformat": 4,
 "nbformat_minor": 2
}
