{
 "cells": [
  {
   "cell_type": "code",
   "execution_count": 1,
   "id": "bb85cbb7",
   "metadata": {},
   "outputs": [],
   "source": [
    "# import library\n",
    "import pandas as pd\n",
    "from scipy.sparse import load_npz\n",
    "from sklearn.model_selection import train_test_split\n",
    "from sklearn.metrics import accuracy_score"
   ]
  },
  {
   "cell_type": "code",
   "execution_count": 2,
   "id": "09acb4be",
   "metadata": {},
   "outputs": [],
   "source": [
    "#import data after preprocessing\n",
    "train_df = pd.read_csv(\"./project_data_files/book_rating_train.csv\")\n",
    "test_df = pd.read_csv(\"./project_data_files/book_rating_test.csv\")\n",
    "X_train = load_npz('x_train_combine_1369_mi.npz')\n",
    "X_test = load_npz('x_test_1369_mi.npz')\n",
    "y_train = train_df['rating_label']"
   ]
  },
  {
   "cell_type": "code",
   "execution_count": 3,
   "id": "c24f6e53",
   "metadata": {},
   "outputs": [
    {
     "name": "stdout",
     "output_type": "stream",
     "text": [
      "(18450, 1369)\n"
     ]
    }
   ],
   "source": [
    "# split train and testing dataset\n",
    "X_train, X_val, y_train, y_val = train_test_split(X_train, y_train, test_size=0.2, random_state=42)\n",
    "print(X_train.shape)"
   ]
  },
  {
   "cell_type": "code",
   "execution_count": 4,
   "id": "6e773458",
   "metadata": {},
   "outputs": [],
   "source": [
    "def output_predictions(prediction):\n",
    "    #output result\n",
    "    output_df = pd.DataFrame({'rating_label': prediction})\n",
    "    output_df.index += 1\n",
    "    output_df.index.name = 'id'\n",
    "    output_df.to_csv('./predictions.csv')\n",
    "    return"
   ]
  },
  {
   "cell_type": "code",
   "execution_count": 5,
   "id": "d5879c28",
   "metadata": {},
   "outputs": [
    {
     "name": "stdout",
     "output_type": "stream",
     "text": [
      "Accuracy: 0.7127682636028615\n"
     ]
    },
    {
     "name": "stderr",
     "output_type": "stream",
     "text": [
      "C:\\Users\\Olivia\\AppData\\Local\\Packages\\PythonSoftwareFoundation.Python.3.10_qbz5n2kfra8p0\\LocalCache\\local-packages\\Python310\\site-packages\\sklearn\\linear_model\\_logistic.py:814: ConvergenceWarning: lbfgs failed to converge (status=1):\n",
      "STOP: TOTAL NO. of ITERATIONS REACHED LIMIT.\n",
      "\n",
      "Increase the number of iterations (max_iter) or scale the data as shown in:\n",
      "    https://scikit-learn.org/stable/modules/preprocessing.html\n",
      "Please also refer to the documentation for alternative solver options:\n",
      "    https://scikit-learn.org/stable/modules/linear_model.html#logistic-regression\n",
      "  n_iter_i = _check_optimize_result(\n"
     ]
    }
   ],
   "source": [
    "from sklearn.linear_model import LogisticRegression\n",
    "lgr = LogisticRegression()\n",
    "lgr.fit(X_train,y_train)\n",
    "print(\"Accuracy:\",lgr.score(X_val,y_val))\n",
    "prediction_logistic = lgr.predict(X_test)\n",
    "output_predictions(prediction_logistic)"
   ]
  },
  {
   "cell_type": "code",
   "execution_count": 72,
   "id": "7302f2eb",
   "metadata": {},
   "outputs": [],
   "source": [
    "from sklearn.model_selection import GridSearchCV\n",
    "import warnings\n",
    "\n",
    "warnings.simplefilter(action='ignore', category=UserWarning)\n",
    "\n",
    "# Define the parameter grid to search over\n",
    "param_grid = {'max_iter': [100, 500, 1000, 2000]}\n",
    "\n",
    "# Create a logistic regression classifier\n",
    "lgr = LogisticRegression()\n",
    "\n",
    "\n",
    "# Use GridSearchCV to find the best max_iter value\n",
    "grid_search = GridSearchCV(lgr, param_grid, cv=3)\n",
    "grid_search.fit(X_train, y_train)\n",
    "\n",
    "# Print the best parameters and accuracy score\n",
    "print(\"Best max_iter value:\", grid_search.best_params_['max_iter'])\n",
    "print(\"Accuracy:\", grid_search.score(X_val, y_val))"
   ]
  },
  {
   "cell_type": "code",
   "execution_count": null,
   "id": "182a7468",
   "metadata": {},
   "outputs": [],
   "source": [
    "prediction_logistic_grid = grid_search.predict(X_test)\n",
    "output_predictions(prediction_logistic_grid)"
   ]
  }
 ],
 "metadata": {
  "kernelspec": {
   "display_name": "Python 3",
   "language": "python",
   "name": "python3"
  },
  "language_info": {
   "codemirror_mode": {
    "name": "ipython",
    "version": 3
   },
   "file_extension": ".py",
   "mimetype": "text/x-python",
   "name": "python",
   "nbconvert_exporter": "python",
   "pygments_lexer": "ipython3",
   "version": "3.10.11"
  },
  "vscode": {
   "interpreter": {
    "hash": "449056e4a45b52db97e4be0f9eb617c8f7bfc9621aa20fbcd7c2dc4aebf2696f"
   }
  }
 },
 "nbformat": 4,
 "nbformat_minor": 5
}
