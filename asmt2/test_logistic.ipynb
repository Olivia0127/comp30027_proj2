{
 "cells": [
  {
   "cell_type": "code",
   "execution_count": 2,
   "id": "bb85cbb7",
   "metadata": {},
   "outputs": [],
   "source": [
    "# import library\n",
    "import pandas as pd\n",
    "from scipy.sparse import load_npz\n",
    "from sklearn.model_selection import train_test_split\n",
    "from sklearn.metrics import accuracy_score\n",
    "import matplotlib.pyplot as plt\n",
    "import numpy as np\n",
    "from sklearn.model_selection import ShuffleSplit\n",
    "from sklearn.model_selection import learning_curve"
   ]
  },
  {
   "cell_type": "code",
   "execution_count": 3,
   "id": "09acb4be",
   "metadata": {},
   "outputs": [],
   "source": [
    "#import data after preprocessing\n",
    "train_df = pd.read_csv(\"./project_data_files/book_rating_train.csv\")\n",
    "test_df = pd.read_csv(\"./project_data_files/book_rating_test.csv\")\n",
    "X_train = load_npz('x_train_5000.npz')\n",
    "X_test = load_npz('x_test_5000.npz')\n",
    "y_train = train_df['rating_label']"
   ]
  },
  {
   "cell_type": "code",
   "execution_count": 4,
   "id": "c24f6e53",
   "metadata": {},
   "outputs": [
    {
     "name": "stdout",
     "output_type": "stream",
     "text": [
      "(18450, 5000)\n"
     ]
    }
   ],
   "source": [
    "# split train and testing dataset\n",
    "X_train, X_val, y_train, y_val = train_test_split(X_train, y_train, test_size=0.2, random_state=42)\n",
    "print(X_train.shape)"
   ]
  },
  {
   "cell_type": "code",
   "execution_count": 5,
   "id": "6e773458",
   "metadata": {},
   "outputs": [],
   "source": [
    "def output_predictions(prediction):\n",
    "    #output result\n",
    "    output_df = pd.DataFrame({'rating_label': prediction})\n",
    "    output_df.index += 1\n",
    "    output_df.index.name = 'id'\n",
    "    output_df.to_csv('./predictions.csv')\n",
    "    return"
   ]
  },
  {
   "cell_type": "code",
   "execution_count": 16,
   "id": "d5879c28",
   "metadata": {},
   "outputs": [],
   "source": [
    "from sklearn.linear_model import LogisticRegression\n",
    "from sklearn.linear_model import LogisticRegressionCV\n",
    "import warnings\n",
    "\n",
    "warnings.simplefilter(action='ignore', category=UserWarning)\n"
   ]
  },
  {
   "cell_type": "code",
   "execution_count": 21,
   "id": "7302f2eb",
   "metadata": {},
   "outputs": [
    {
     "data": {
      "text/plain": [
       "GridSearchCV(cv=3,\n",
       "             estimator=LogisticRegression(multi_class='multinomial', n_jobs=-1,\n",
       "                                          warm_start=True),\n",
       "             param_grid={'max_iter': [100, 200, 300, 400, 500, 600, 700, 800,\n",
       "                                      900]})"
      ]
     },
     "execution_count": 21,
     "metadata": {},
     "output_type": "execute_result"
    }
   ],
   "source": [
    "from sklearn.model_selection import GridSearchCV\n",
    "\n",
    "\n",
    "# Define the parameter grid to search over\n",
    "param_grid = {'max_iter': list(range(100,1000,100))\n",
    "              }\n",
    "\n",
    "# Create a logistic regression classifier\n",
    "lgr = LogisticRegression(multi_class='multinomial', warm_start=True, n_jobs=-1)\n",
    "\n",
    "\n",
    "# Use GridSearchCV to find the best max_iter value\n",
    "grid_search = GridSearchCV(lgr, param_grid, cv=3)\n",
    "grid_search.fit(X_train, y_train)\n"
   ]
  },
  {
   "cell_type": "code",
   "execution_count": 22,
   "id": "99c6c8b4",
   "metadata": {},
   "outputs": [
    {
     "name": "stdout",
     "output_type": "stream",
     "text": [
      "Best max_iter value: {'max_iter': 900}\n",
      "Accuracy: 0.7186212876652938\n"
     ]
    }
   ],
   "source": [
    "# Print the best parameters and accuracy score\n",
    "print(\"Best max_iter value:\", grid_search.best_params_)\n",
    "print(\"Accuracy:\", grid_search.score(X_val, y_val))"
   ]
  },
  {
   "cell_type": "code",
   "execution_count": 27,
   "id": "f120e034",
   "metadata": {},
   "outputs": [
    {
     "name": "stdout",
     "output_type": "stream",
     "text": [
      "Accuracy: 0.724040754389768\n"
     ]
    }
   ],
   "source": [
    "lgr = LogisticRegressionCV(Cs=[0.001, 0.01, 0.1, 1, 5, 10,100], solver = 'lbfgs', multi_class='multinomial', n_jobs=-1, max_iter=900, class_weight={3:0.1, 4:0.9},cv=3)\n",
    "lgr.fit(X_train,y_train)\n",
    "print(\"Accuracy:\",lgr.score(X_val,y_val))\n",
    "prediction_logistic = lgr.predict(X_test)\n",
    "output_predictions(prediction_logistic)"
   ]
  },
  {
   "cell_type": "code",
   "execution_count": 28,
   "id": "50ac42ff",
   "metadata": {},
   "outputs": [],
   "source": [
    "def plot_learning_curve(estimator, title, X, y, ylim=None, cv=None,\n",
    "                        n_jobs=1, train_sizes=np.linspace(.1, 1.0, 5)):\n",
    "    plt.figure(figsize=(10,7))\n",
    "    plt.title(title)\n",
    "    if ylim is not None:\n",
    "        plt.ylim(*ylim)\n",
    "    plt.xlabel(\"Training examples\")\n",
    "    plt.ylabel(\"Score\")\n",
    "    train_sizes, train_scores, test_scores = learning_curve(\n",
    "        estimator, X, y, cv=cv, n_jobs=n_jobs, train_sizes=train_sizes)\n",
    "    train_scores_mean = np.mean(train_scores, axis=1)\n",
    "    train_scores_std = np.std(train_scores, axis=1)\n",
    "    test_scores_mean = np.mean(test_scores, axis=1)\n",
    "    test_scores_std = np.std(test_scores, axis=1)\n",
    "    plt.grid()\n",
    " \n",
    "    plt.fill_between(train_sizes, train_scores_mean - train_scores_std,\n",
    "                     train_scores_mean + train_scores_std, alpha=0.1,\n",
    "                     color=\"r\")\n",
    "    plt.fill_between(train_sizes, test_scores_mean - test_scores_std,\n",
    "                     test_scores_mean + test_scores_std, alpha=0.1, color=\"g\")\n",
    "    plt.plot(train_sizes, train_scores_mean, 'o-', color=\"r\",\n",
    "             label=\"Training score\")\n",
    "    plt.plot(train_sizes, test_scores_mean, 'o-', color=\"g\",\n",
    "             label=\"Cross-validation score\")\n",
    " \n",
    "    plt.legend(loc=\"best\")\n",
    "    return plt\n"
   ]
  },
  {
   "cell_type": "code",
   "execution_count": 29,
   "id": "28b039c6",
   "metadata": {},
   "outputs": [],
   "source": [
    "title = r\"Learning Curves (lgr)\"\n",
    "cv = ShuffleSplit(n_splits=100, test_size=0.2, random_state=0)\n",
    "estimator = lgr    #建模\n",
    "plot_learning_curve(estimator, title, X_train, y_train, ylim=(0.65, 0.8), cv=cv, n_jobs=1)"
   ]
  },
  {
   "cell_type": "code",
   "execution_count": 39,
   "id": "182a7468",
   "metadata": {},
   "outputs": [],
   "source": [
    "prediction_logistic_grid = grid_search.predict(X_test)\n",
    "output_predictions(prediction_logistic_grid)"
   ]
  }
 ],
 "metadata": {
  "kernelspec": {
   "display_name": "Python 3",
   "language": "python",
   "name": "python3"
  },
  "language_info": {
   "codemirror_mode": {
    "name": "ipython",
    "version": 3
   },
   "file_extension": ".py",
   "mimetype": "text/x-python",
   "name": "python",
   "nbconvert_exporter": "python",
   "pygments_lexer": "ipython3",
   "version": "3.10.11"
  },
  "vscode": {
   "interpreter": {
    "hash": "449056e4a45b52db97e4be0f9eb617c8f7bfc9621aa20fbcd7c2dc4aebf2696f"
   }
  }
 },
 "nbformat": 4,
 "nbformat_minor": 5
}
