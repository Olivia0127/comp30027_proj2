{
 "cells": [
  {
   "cell_type": "code",
   "execution_count": 5,
   "metadata": {},
   "outputs": [],
   "source": [
    "# import librart\n",
    "import sklearn\n",
    "import numpy as np\n",
    "import pandas as pd\n",
    "import pickle\n",
    "from scipy.sparse import hstack\n",
    "from sklearn.model_selection import train_test_split\n",
    "from sklearn.ensemble import RandomForestClassifier\n",
    "from sklearn.metrics import accuracy_score\n",
    "import scipy\n",
    "from scipy.sparse import csr_matrix\n",
    "from sklearn.feature_selection import SelectKBest, mutual_info_classif\n",
    "from sklearn.preprocessing import OneHotEncoder"
   ]
  },
  {
   "cell_type": "code",
   "execution_count": null,
   "metadata": {},
   "outputs": [],
   "source": [
    "\n",
    "\n",
    "# # 创建一个简单的DataFrame，包含一列分类特征\n",
    "# data = {'publisher': ['A', 'B', 'A', 'C', 'B', 'C']}\n",
    "# df = pd.DataFrame(data)\n",
    "\n",
    "# # 初始化OneHotEncoder\n",
    "# encoder = OneHotEncoder(sparse=False)\n",
    "\n",
    "# # 拟合并转换数据\n",
    "# one_hot = encoder.fit_transform(df[['publisher']])\n",
    "\n",
    "# # 创建独热编码后的DataFrame，使用encoder的get_feature_names_out()方法获取列名\n",
    "# one_hot_df = pd.DataFrame(one_hot, columns=encoder.get_feature_names_out(['publisher']))\n",
    "\n",
    "# # 打印原始数据和独热编码后的数据\n",
    "# print(\"Original DataFrame:\")\n",
    "# print(df)\n",
    "# print(\"\\nOne-hot encoded DataFrame:\")\n",
    "# print(one_hot_df)"
   ]
  },
  {
   "cell_type": "code",
   "execution_count": 6,
   "metadata": {},
   "outputs": [],
   "source": [
    "def process_OneHotEncoder(train_df,test_df,column_name:str):\n",
    "    encoder = OneHotEncoder(sparse=False)\n",
    "    one_hot = encoder.fit_transform(df[['publisher']])\n",
    "    one_hot_df = pd.DataFrame(one_hot, columns=encoder.get_feature_names_out([column_name]))\n",
    "    print(\"Original DataFrame:\")\n",
    "    print(df)\n",
    "    print(\"\\nOne-hot encoded DataFrame:\")\n",
    "    print(one_hot_df)"
   ]
  }
 ],
 "metadata": {
  "kernelspec": {
   "display_name": "base",
   "language": "python",
   "name": "python3"
  },
  "language_info": {
   "codemirror_mode": {
    "name": "ipython",
    "version": 3
   },
   "file_extension": ".py",
   "mimetype": "text/x-python",
   "name": "python",
   "nbconvert_exporter": "python",
   "pygments_lexer": "ipython3",
   "version": "3.9.13"
  },
  "orig_nbformat": 4
 },
 "nbformat": 4,
 "nbformat_minor": 2
}
