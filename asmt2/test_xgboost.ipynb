{
 "cells": [
  {
   "cell_type": "code",
   "execution_count": 2,
   "id": "86f5c9ed",
   "metadata": {},
   "outputs": [],
   "source": [
    "# import library\n",
    "import pandas as pd\n",
    "from scipy.sparse import load_npz\n",
    "from sklearn.model_selection import train_test_split\n",
    "from sklearn.metrics import accuracy_score"
   ]
  },
  {
   "cell_type": "code",
   "execution_count": 13,
   "id": "94659cfd",
   "metadata": {},
   "outputs": [],
   "source": [
    "#import data after preprocessing\n",
    "train_df = pd.read_csv(\"./project_data_files/book_rating_train.csv\")\n",
    "test_df = pd.read_csv(\"./project_data_files/book_rating_test.csv\")\n",
    "X_train = load_npz('./x_train_combine_1369_mi.npz')\n",
    "X_test = load_npz('./x_test_1369_mi.npz')\n",
    "y_train = train_df['rating_label']"
   ]
  },
  {
   "cell_type": "code",
   "execution_count": 14,
   "id": "f87c2cad",
   "metadata": {},
   "outputs": [
    {
     "name": "stdout",
     "output_type": "stream",
     "text": [
      "(4613,)\n"
     ]
    }
   ],
   "source": [
    "# split train and testing dataset\n",
    "X_train, X_val, y_train, y_val = train_test_split(X_train, y_train, test_size=0.2, random_state=42)\n",
    "print(y_val.shape)"
   ]
  },
  {
   "cell_type": "code",
   "execution_count": 15,
   "id": "d31f756c",
   "metadata": {},
   "outputs": [],
   "source": [
    "def output_predictions(prediction):\n",
    "    #output result\n",
    "    output_df = pd.DataFrame({'rating_label': prediction})\n",
    "    output_df.index += 1\n",
    "    output_df.index.name = 'id'\n",
    "    output_df.to_csv('./predictions.csv')\n",
    "    return"
   ]
  },
  {
   "cell_type": "code",
   "execution_count": 16,
   "id": "de5fe75b",
   "metadata": {},
   "outputs": [],
   "source": [
    "#try XGboost\n",
    "import xgboost as xgb\n",
    "from sklearn.metrics import accuracy_score\n",
    "\n",
    "dtrain = xgb.DMatrix(X_train, label=y_train-3)\n",
    "\n",
    "params = {\n",
    "    'max_depth': 70,\n",
    "    'learning_rate': 0.07,\n",
    "    'objective': 'multi:softmax',\n",
    "    'subsample': 0.7,\n",
    "    'random_state': 42,\n",
    "    'num_class': 3,\n",
    "    'lambda': 2,\n",
    "}\n",
    "\n",
    "num_rounds = 500\n",
    "model = xgb.train(params, dtrain, num_rounds)"
   ]
  },
  {
   "cell_type": "code",
   "execution_count": 11,
   "id": "4f3e9271",
   "metadata": {},
   "outputs": [
    {
     "name": "stdout",
     "output_type": "stream",
     "text": [
      "Accuracy: 72.60%\n"
     ]
    }
   ],
   "source": [
    "dtest = xgb.DMatrix(X_val)\n",
    "y_pred = model.predict(dtest)\n",
    "y_pred = [round(value) for value in y_pred]\n",
    "accuracy = accuracy_score(y_val-3, y_pred)\n",
    "print(\"Accuracy: %.2f%%\" % (accuracy * 100.0))"
   ]
  },
  {
   "cell_type": "code",
   "execution_count": 12,
   "id": "ba137e12",
   "metadata": {},
   "outputs": [
    {
     "name": "stdout",
     "output_type": "stream",
     "text": [
      "[4. 4. 4. ... 4. 4. 4.]\n"
     ]
    }
   ],
   "source": [
    "dtest = xgb.DMatrix(X_test)\n",
    "prediction = model.predict(dtest)\n",
    "print(prediction+3)\n",
    "output_predictions(prediction+3)"
   ]
  }
 ],
 "metadata": {
  "kernelspec": {
   "display_name": "Python 3",
   "language": "python",
   "name": "python3"
  },
  "language_info": {
   "codemirror_mode": {
    "name": "ipython",
    "version": 3
   },
   "file_extension": ".py",
   "mimetype": "text/x-python",
   "name": "python",
   "nbconvert_exporter": "python",
   "pygments_lexer": "ipython3",
   "version": "3.10.11"
  },
  "vscode": {
   "interpreter": {
    "hash": "449056e4a45b52db97e4be0f9eb617c8f7bfc9621aa20fbcd7c2dc4aebf2696f"
   }
  }
 },
 "nbformat": 4,
 "nbformat_minor": 5
}
