{
 "cells": [
  {
   "cell_type": "code",
   "execution_count": 1,
   "id": "86f5c9ed",
   "metadata": {},
   "outputs": [],
   "source": [
    "# import library\n",
    "import pandas as pd\n",
    "from scipy.sparse import load_npz\n",
    "from sklearn.model_selection import train_test_split\n",
    "from sklearn.metrics import accuracy_score\n",
    "import lightgbm as lgb"
   ]
  },
  {
   "cell_type": "code",
   "execution_count": 2,
   "id": "94659cfd",
   "metadata": {},
   "outputs": [],
   "source": [
    "#import data after preprocessing\n",
    "train_df = pd.read_csv(\"./project_data_files/book_rating_train.csv\")\n",
    "test_df = pd.read_csv(\"./project_data_files/book_rating_test.csv\")\n",
    "X_train = load_npz('./x_train_combine_419_mi.npz')\n",
    "X_test = load_npz('./x_test_419_mi.npz')\n",
    "y_train = train_df['rating_label']"
   ]
  },
  {
   "cell_type": "code",
   "execution_count": 3,
   "id": "f87c2cad",
   "metadata": {},
   "outputs": [
    {
     "name": "stdout",
     "output_type": "stream",
     "text": [
      "247      4.0\n",
      "12038    3.0\n",
      "1580     4.0\n",
      "3128     4.0\n",
      "20531    4.0\n",
      "        ... \n",
      "12586    3.0\n",
      "7683     4.0\n",
      "12912    4.0\n",
      "9134     4.0\n",
      "7893     4.0\n",
      "Name: rating_label, Length: 4613, dtype: float64\n"
     ]
    }
   ],
   "source": [
    "# split train and testing dataset\n",
    "X_train, X_val, y_train, y_val = train_test_split(X_train, y_train, test_size=0.2, random_state=42)\n",
    "print(y_val)"
   ]
  },
  {
   "cell_type": "code",
   "execution_count": 4,
   "id": "d31f756c",
   "metadata": {},
   "outputs": [],
   "source": [
    "def output_predictions(prediction):\n",
    "    #output result\n",
    "    output_df = pd.DataFrame({'rating_label': prediction})\n",
    "    output_df.index += 1\n",
    "    output_df.index.name = 'id'\n",
    "    output_df.to_csv('./predictions.csv')\n",
    "    return"
   ]
  },
  {
   "cell_type": "code",
   "execution_count": 5,
   "id": "de5fe75b",
   "metadata": {},
   "outputs": [],
   "source": [
    "#try XGboost\n",
    "import xgboost as xgb\n",
    "from sklearn.metrics import accuracy_score\n",
    "from sklearn.model_selection import GridSearchCV\n",
    "\n",
    "dtrain = xgb.DMatrix(X_train, label=y_train-3)\n",
    "\n",
    "params = {\n",
    "    'max_depth': list(range(50, 80, 10)),\n",
    "    'min_child_weight': list(range(1, 6, 2)),\n",
    "}\n",
    "\n",
    "gsearch = GridSearchCV(estimator=xgb.XGBClassifier(learning_rate = 0.2, objective='multi:softmax', subsample = 0.8, colsample_bytree=0.8, \n",
    "                                                   random_state = 42, num_class = 3), param_grid=params, n_jobs=4, cv=3)\n",
    "gsearch.fit(X_train, y_train-3)"
   ]
  },
  {
   "cell_type": "code",
   "execution_count": 5,
   "id": "d5b1ae91",
   "metadata": {},
   "outputs": [
    {
     "name": "stdout",
     "output_type": "stream",
     "text": [
      "{'max_depth': 10, 'min_child_weight': 3} 0.7093613098067149\n"
     ]
    }
   ],
   "source": [
    "print( gsearch.best_params_, gsearch.best_score_)"
   ]
  },
  {
   "cell_type": "code",
   "execution_count": 13,
   "id": "7d27fe20",
   "metadata": {},
   "outputs": [
    {
     "data": {
      "text/plain": [
       "GridSearchCV(cv=3,\n",
       "             estimator=XGBClassifier(alpha=3, base_score=None, booster=None,\n",
       "                                     callbacks=None, colsample_bylevel=None,\n",
       "                                     colsample_bynode=None,\n",
       "                                     colsample_bytree=0.8,\n",
       "                                     early_stopping_rounds=None,\n",
       "                                     enable_categorical=False, eval_metric=None,\n",
       "                                     feature_types=None, gamma=None,\n",
       "                                     gpu_id=None, grow_policy=None,\n",
       "                                     importance_type=None,\n",
       "                                     interaction_constraints=None,\n",
       "                                     learning_rate=0.03, max_bin=None,\n",
       "                                     max_cat_threshold=None,\n",
       "                                     max_cat_to_onehot=None,\n",
       "                                     max_delta_step=None, max_depth=10,\n",
       "                                     max_leaves=None, min_child_weight=3,\n",
       "                                     missing=nan, monotone_constraints=None,\n",
       "                                     n_estimators=100, n_jobs=None, num_class=3,\n",
       "                                     num_parallel_tree=None, ...),\n",
       "             param_grid={'gamma': [0.0, 0.1, 0.2, 0.3, 0.4]})"
      ]
     },
     "execution_count": 13,
     "metadata": {},
     "output_type": "execute_result"
    }
   ],
   "source": [
    "params = {\n",
    "    'gamma': [i/10 for i in range(0, 5)]\n",
    "}\n",
    "gsearch = GridSearchCV(estimator=xgb.XGBClassifier(learning_rate = 0.2, objective='multi:softmax', subsample = 0.8, colsample_bytree=0.8, \n",
    "                                                   random_state = 42, num_class = 3, alpha = 3, max_depth = 10, min_child_weight = 3), param_grid=params, cv=3)\n",
    "gsearch.fit(X_train, y_train-3)"
   ]
  },
  {
   "cell_type": "code",
   "execution_count": 14,
   "id": "50c7d598",
   "metadata": {},
   "outputs": [
    {
     "name": "stdout",
     "output_type": "stream",
     "text": [
      "{'gamma': 0.3} 0.7088409620397353\n"
     ]
    }
   ],
   "source": [
    "print( gsearch.best_params_, gsearch.best_score_)"
   ]
  },
  {
   "cell_type": "code",
   "execution_count": null,
   "id": "8e93fb57",
   "metadata": {},
   "outputs": [],
   "source": [
    "params = {\n",
    "    'subsample': list(range(5, 10)*0.1),\n",
    "    'colsample_bytree': list(range(5, 10)*0.1)\n",
    "}\n",
    "\n",
    "gsearch = GridSearchCV(estimator=xgb.XGBClassifier(learning_rate = 0.2, objective='multi:softmax',gamma = 0.3,\n",
    "                                                   random_state = 42, num_class = 3, alpha = 3, max_depth = 10, min_child_weight = 3), param_grid=params, cv=3)"
   ]
  },
  {
   "cell_type": "code",
   "execution_count": null,
   "id": "21b92486",
   "metadata": {},
   "outputs": [],
   "source": [
    "param = {\n",
    "    'learning_rate': list(range(1,10)*0.001)\n",
    "}\n",
    "gsearch = GridSearchCV(estimator=xgb.XGBClassifier(objective='multi:softmax', subsample = 0.8, colsample_bytree=0.8, \n",
    "                                                   random_state = 42, num_class = 3, alpha = 3, max_depth = 10, min_child_weight = 3), param_grid=params, cv=3)\n"
   ]
  },
  {
   "cell_type": "code",
   "execution_count": 39,
   "id": "4f3e9271",
   "metadata": {},
   "outputs": [
    {
     "name": "stdout",
     "output_type": "stream",
     "text": [
      "Accuracy: 71.97%\n"
     ]
    }
   ],
   "source": [
    "dtest = xgb.DMatrix(X_val)\n",
    "y_pred = model.predict(dtest)\n",
    "y_pred = [round(value) for value in y_pred]\n",
    "accuracy = accuracy_score(y_val-3, y_pred)\n",
    "print(\"Accuracy: %.2f%%\" % (accuracy * 100.0))"
   ]
  },
  {
   "cell_type": "code",
   "execution_count": 27,
   "id": "ba137e12",
   "metadata": {},
   "outputs": [
    {
     "name": "stdout",
     "output_type": "stream",
     "text": [
      "[4. 4. 4. ... 4. 4. 4.]\n"
     ]
    }
   ],
   "source": [
    "dtest = xgb.DMatrix(X_test)\n",
    "prediction = model.predict(dtest)\n",
    "print(prediction+3)\n",
    "output_predictions(prediction+3)"
   ]
  }
 ],
 "metadata": {
  "kernelspec": {
   "display_name": "Python 3",
   "language": "python",
   "name": "python3"
  },
  "language_info": {
   "codemirror_mode": {
    "name": "ipython",
    "version": 3
   },
   "file_extension": ".py",
   "mimetype": "text/x-python",
   "name": "python",
   "nbconvert_exporter": "python",
   "pygments_lexer": "ipython3",
   "version": "3.10.11"
  },
  "vscode": {
   "interpreter": {
    "hash": "449056e4a45b52db97e4be0f9eb617c8f7bfc9621aa20fbcd7c2dc4aebf2696f"
   }
  }
 },
 "nbformat": 4,
 "nbformat_minor": 5
}
