{
 "cells": [
  {
   "cell_type": "code",
   "execution_count": 6,
   "metadata": {},
   "outputs": [],
   "source": [
    "# import librart\n",
    "import sklearn\n",
    "import numpy\n",
    "import pandas as pd\n",
    "import pickle\n",
    "from scipy.sparse import hstack\n",
    "from sklearn.model_selection import train_test_split\n",
    "from sklearn.ensemble import RandomForestClassifier\n",
    "from sklearn.metrics import accuracy_score\n",
    "import scipy\n",
    "from scipy.sparse import csr_matrix\n",
    "from sklearn.feature_selection import SelectKBest, mutual_info_classif"
   ]
  },
  {
   "cell_type": "code",
   "execution_count": 3,
   "metadata": {},
   "outputs": [],
   "source": [
    "train_df = pd.read_csv(\"./project_data_files/book_rating_train.csv\")\n",
    "test_df = pd.read_csv(\"./project_data_files/book_rating_test.csv\")\n",
    "# train_name_countvectorizer\n",
    "train_name_countvectorizer = pickle.load(open(\"./project_data_files/book_text_features_countvec/train_name_countvectorizer.pkl\", \"rb\"))\n",
    "train_name_dic = train_name_countvectorizer.vocabulary_\n",
    "\n",
    "# train_authors_countvectorizer\n",
    "train_authors_countvectorizer = pickle.load(open(\"./project_data_files/book_text_features_countvec/train_authors_countvectorizer.pkl\", \"rb\"))\n",
    "train_authors_dic = train_authors_countvectorizer.vocabulary_\n",
    "\n",
    "# train_desc_countvectorizer\n",
    "train_desc_countvectorizer = pickle.load(open(\"./project_data_files/book_text_features_countvec/train_desc_countvectorizer.pkl\", \"rb\"))\n",
    "train_desc__dic = train_desc_countvectorizer.vocabulary_\n",
    "\n",
    "# process vector features\n",
    "train_name_features = train_name_countvectorizer.transform(train_df['Name'])\n",
    "train_authors_features = train_authors_countvectorizer.transform(train_df['Authors'])\n",
    "train_desc_features = train_desc_countvectorizer.transform(train_df['Description'])\n",
    "other_features_df = train_df.drop(columns=['Name', 'Authors', 'Description', 'Publisher', 'Language', 'rating_label'])\n",
    "# new sparse features\n",
    "sparse_features = hstack([train_name_features, train_authors_features, train_desc_features])\n",
    "# new train features\n",
    "dense_features = csr_matrix(other_features_df.values)\n",
    "train_features = hstack([sparse_features, dense_features])\n"
   ]
  },
  {
   "cell_type": "code",
   "execution_count": 9,
   "metadata": {},
   "outputs": [
    {
     "data": {
      "text/plain": [
       "(23063, 126888)"
      ]
     },
     "execution_count": 9,
     "metadata": {},
     "output_type": "execute_result"
    }
   ],
   "source": [
    "train_features.shape"
   ]
  },
  {
   "cell_type": "code",
   "execution_count": 10,
   "metadata": {},
   "outputs": [
    {
     "data": {
      "text/plain": [
       "(23063, 10)"
      ]
     },
     "execution_count": 10,
     "metadata": {},
     "output_type": "execute_result"
    }
   ],
   "source": [
    "train_df.shape"
   ]
  },
  {
   "cell_type": "code",
   "execution_count": 11,
   "metadata": {},
   "outputs": [],
   "source": [
    "\n",
    "selector = SelectKBest(mutual_info_classif, k=1000)\n",
    "selector.fit_transform(train_features, train_df[\"rating_label\"])\n",
    "feature_idx = selector.get_support(indices=True)\n",
    "selected_features = train_features[:, feature_idx]"
   ]
  },
  {
   "cell_type": "code",
   "execution_count": 14,
   "metadata": {},
   "outputs": [
    {
     "name": "stdout",
     "output_type": "stream",
     "text": [
      "  (0, 204)\t1\n",
      "  (0, 433)\t1\n",
      "  (0, 488)\t1\n",
      "  (0, 540)\t1\n",
      "  (0, 549)\t1\n",
      "  (0, 757)\t1\n",
      "  (0, 834)\t1\n",
      "  (0, 846)\t1\n",
      "  (0, 890)\t1\n",
      "  (0, 986)\t1\n",
      "  (0, 996)\t2005\n",
      "  (0, 997)\t6\n",
      "  (0, 998)\t1\n",
      "  (0, 999)\t48\n",
      "  (1, 154)\t1\n",
      "  (1, 155)\t1\n",
      "  (1, 189)\t3\n",
      "  (1, 190)\t1\n",
      "  (1, 230)\t1\n",
      "  (1, 239)\t1\n",
      "  (1, 244)\t1\n",
      "  (1, 255)\t1\n",
      "  (1, 415)\t1\n",
      "  (1, 427)\t1\n",
      "  (1, 444)\t1\n",
      "  :\t:\n",
      "  (23060, 999)\t132\n",
      "  (23061, 57)\t1\n",
      "  (23061, 64)\t1\n",
      "  (23061, 245)\t1\n",
      "  (23061, 359)\t1\n",
      "  (23061, 601)\t1\n",
      "  (23061, 609)\t1\n",
      "  (23061, 642)\t2\n",
      "  (23061, 712)\t2\n",
      "  (23061, 813)\t1\n",
      "  (23061, 873)\t1\n",
      "  (23061, 961)\t1\n",
      "  (23061, 987)\t1\n",
      "  (23061, 996)\t1998\n",
      "  (23061, 997)\t4\n",
      "  (23061, 998)\t21\n",
      "  (23061, 999)\t136\n",
      "  (23062, 123)\t1\n",
      "  (23062, 308)\t1\n",
      "  (23062, 330)\t1\n",
      "  (23062, 351)\t1\n",
      "  (23062, 996)\t2002\n",
      "  (23062, 997)\t7\n",
      "  (23062, 998)\t8\n",
      "  (23062, 999)\t192\n"
     ]
    }
   ],
   "source": [
    "print(selected_features)"
   ]
  }
 ],
 "metadata": {
  "kernelspec": {
   "display_name": "base",
   "language": "python",
   "name": "python3"
  },
  "language_info": {
   "codemirror_mode": {
    "name": "ipython",
    "version": 3
   },
   "file_extension": ".py",
   "mimetype": "text/x-python",
   "name": "python",
   "nbconvert_exporter": "python",
   "pygments_lexer": "ipython3",
   "version": "3.9.13"
  },
  "orig_nbformat": 4
 },
 "nbformat": 4,
 "nbformat_minor": 2
}
