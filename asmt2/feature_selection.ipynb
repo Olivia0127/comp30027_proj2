{
 "cells": [
  {
   "cell_type": "code",
   "execution_count": 20,
   "metadata": {},
   "outputs": [],
   "source": [
    "# import librart\n",
    "import sklearn\n",
    "import numpy\n",
    "import pandas as pd\n",
    "import pickle\n",
    "from scipy.sparse import hstack\n",
    "from sklearn.model_selection import train_test_split\n",
    "from sklearn.ensemble import RandomForestClassifier\n",
    "from sklearn.metrics import accuracy_score\n",
    "import scipy\n",
    "from scipy.sparse import csr_matrix\n",
    "from sklearn.feature_selection import SelectKBest, mutual_info_classif\n",
    "from sklearn.feature_selection import SelectKBest\n",
    "from sklearn.feature_selection import chi2"
   ]
  },
  {
   "cell_type": "code",
   "execution_count": 1,
   "metadata": {},
   "outputs": [],
   "source": [
    "# mutualInformation selection\n",
    "def MI(train_df,train_features,test_features,k):\n",
    "    selector = SelectKBest(mutual_info_classif, k=k)\n",
    "    selector.fit_transform(train_features, train_df[\"rating_label\"])\n",
    "    feature_idx = selector.get_support(indices=True)\n",
    "    selected_features = train_features[:, feature_idx]\n",
    "    selected_features_test = test_features[:, feature_idx]\n",
    "    return selected_features, selected_features_test"
   ]
  },
  {
   "cell_type": "code",
   "execution_count": 19,
   "metadata": {},
   "outputs": [],
   "source": [
    "# chi Square selection\n",
    "def chi2(train_df,train_features,test_features,k):\n",
    "    selector = SelectKBest(chi2, k=k)\n",
    "    selector.fit(train_features, train_df[\"rating_label\"])\n",
    "    feature_idx = selector.get_support(indices=True)\n",
    "    selected_features = train_features[:, feature_idx]\n",
    "    selected_features_test = test_features[:, feature_idx]\n",
    "    return selected_features, selected_features_test"
   ]
  },
  {
   "cell_type": "code",
   "execution_count": null,
   "metadata": {},
   "outputs": [],
   "source": []
  },
  {
   "cell_type": "code",
   "execution_count": null,
   "metadata": {},
   "outputs": [],
   "source": []
  }
 ],
 "metadata": {
  "kernelspec": {
   "display_name": "base",
   "language": "python",
   "name": "python3"
  },
  "language_info": {
   "codemirror_mode": {
    "name": "ipython",
    "version": 3
   },
   "file_extension": ".py",
   "mimetype": "text/x-python",
   "name": "python",
   "nbconvert_exporter": "python",
   "pygments_lexer": "ipython3",
   "version": "3.9.13"
  },
  "orig_nbformat": 4
 },
 "nbformat": 4,
 "nbformat_minor": 2
}
