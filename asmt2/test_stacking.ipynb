{
 "cells": [
  {
   "cell_type": "code",
   "execution_count": 14,
   "metadata": {},
   "outputs": [],
   "source": [
    "import pandas as pd\n",
    "import numpy as np\n",
    "from scipy.sparse import load_npz\n",
    "from sklearn.model_selection import train_test_split\n",
    "from sklearn.metrics import accuracy_score\n",
    "from sklearn.linear_model import LogisticRegressionCV\n",
    "from sklearn.neighbors import KNeighborsClassifier\n",
    "from sklearn.tree import DecisionTreeClassifier\n",
    "import xgboost as xgb\n",
    "from sklearn.ensemble import RandomForestClassifier\n",
    "from sklearn.naive_bayes import GaussianNB\n",
    "from mlxtend.classifier import StackingCVClassifier\n",
    "from sklearn import svm\n",
    "from sklearn.dummy import DummyClassifier"
   ]
  },
  {
   "cell_type": "code",
   "execution_count": 15,
   "metadata": {},
   "outputs": [],
   "source": [
    "#import data after preprocessing\n",
    "train_df = pd.read_csv(\"./project_data_files/book_rating_train.csv\")\n",
    "test_df = pd.read_csv(\"./project_data_files/book_rating_test.csv\")\n",
    "X_train = load_npz('./x_train_5000.npz')\n",
    "X_test = load_npz('./x_test_5000.npz')\n",
    "y_train = train_df['rating_label']"
   ]
  },
  {
   "cell_type": "code",
   "execution_count": 10,
   "metadata": {},
   "outputs": [
    {
     "name": "stdout",
     "output_type": "stream",
     "text": [
      "(4613,)\n"
     ]
    }
   ],
   "source": [
    "# split train and testing dataset\n",
    "X_train, X_val, y_train, y_val = train_test_split(X_train, y_train, test_size=0.2, random_state=42)\n",
    "print(y_val.shape)"
   ]
  },
  {
   "cell_type": "code",
   "execution_count": 4,
   "metadata": {},
   "outputs": [],
   "source": [
    "def output_predictions(prediction):\n",
    "    #output result\n",
    "    output_df = pd.DataFrame({'rating_label': prediction})\n",
    "    output_df.index += 1\n",
    "    output_df.index.name = 'id'\n",
    "    output_df.to_csv('./predictions.csv')\n",
    "    return"
   ]
  },
  {
   "cell_type": "code",
   "execution_count": 18,
   "metadata": {},
   "outputs": [
    {
     "name": "stderr",
     "output_type": "stream",
     "text": [
      "C:\\Users\\Olivia\\AppData\\Local\\Packages\\PythonSoftwareFoundation.Python.3.10_qbz5n2kfra8p0\\LocalCache\\local-packages\\Python310\\site-packages\\xgboost\\core.py:617: FutureWarning: Pass `objective` as keyword args.\n",
      "  warnings.warn(msg, FutureWarning)\n"
     ]
    }
   ],
   "source": [
    "from sklearn.metrics import accuracy_score\n",
    "from sklearn.ensemble import BaggingClassifier\n",
    "import warnings\n",
    "\n",
    "\n",
    "warnings.simplefilter(action='ignore', category=UserWarning)\n",
    "\n",
    "np.random.seed(1)\n",
    "\n",
    "class StackingClassifier():\n",
    "\n",
    "    def __init__(self, classifiers, metaclassifier):\n",
    "        self.classifiers = classifiers\n",
    "        self.metaclassifier = metaclassifier\n",
    "\n",
    "    def fit(self, X, y):\n",
    "        for clf in self.classifiers:\n",
    "            clf.fit(X, y)\n",
    "        X_meta = self._predict_base(X)\n",
    "        self.metaclassifier.fit(X_meta, y)\n",
    "    \n",
    "    def _predict_base(self, X):\n",
    "        yhats = []\n",
    "        for clf in self.classifiers:\n",
    "            yhat = clf.predict_proba(X)\n",
    "            yhats.append(yhat)\n",
    "        yhats = np.concatenate(yhats, axis=1)\n",
    "        assert yhats.shape[0] == X.shape[0]\n",
    "        return yhats\n",
    "    \n",
    "    def predict(self, X):\n",
    "        X_meta = self._predict_base(X)     \n",
    "        yhat = self.metaclassifier.predict(X_meta)\n",
    "        return yhat\n",
    "    def score(self, X, y):\n",
    "        yhat = self.predict(X)\n",
    "        return accuracy_score(y, yhat)\n",
    "    \n",
    "    \n",
    "    \n",
    "\n",
    "param = {'learning_rate': 0.09, \n",
    "         'objective':'multi:softmax', \n",
    "         'subsample' : 0.8, \n",
    "         'colsample_bytree': 0.6, \n",
    "         'gamma': 0.5,\n",
    "         'num_class': 3, \n",
    "         'max_depth': 10, \n",
    "         'min_child_weight': 1,\n",
    "    \n",
    "}\n",
    "\n",
    "clf1 = KNeighborsClassifier(n_neighbors=80, metric='manhattan', weights='distance')\n",
    "clf2 = RandomForestClassifier()\n",
    "clf4 = LogisticRegressionCV(Cs=[0.001, 0.01, 0.1, 1, 5, 10,100], solver = 'lbfgs', multi_class='multinomial', n_jobs=-1, max_iter=900, class_weight={0:0.1, 1:0.9})\n",
    "clf5 = xgb.XGBClassifier(param, n_estimators = 232)\n",
    "\n",
    "classifiers = [BaggingClassifier(clf1, random_state=42), \n",
    "               BaggingClassifier(clf2, random_state=42),\n",
    "               BaggingClassifier(clf4, random_state=42),\n",
    "               BaggingClassifier(clf5, random_state=42)]\n",
    "titles = ['KNN',\n",
    "          'Random Forest',\n",
    "          'Logistic Regression',\n",
    "          'XGbooster'\n",
    "]\n",
    "\n",
    "\n",
    "\n",
    "meta_classifier_lr = LogisticRegressionCV(Cs=[0.001, 0.01, 0.1, 1, 5, 10,100], solver = 'lbfgs', multi_class='multinomial', n_jobs=-1, max_iter=900, class_weight={3:0.1, 4:0.8, 5:0.1})\n",
    "stacker_lr = StackingClassifier(classifiers, meta_classifier_lr)\n",
    "\n",
    "meta_classifier_knn = KNeighborsClassifier(n_neighbors=80, weights='distance')\n",
    "stacker_knn = StackingClassifier(classifiers, metaclassifier=meta_classifier_knn)\n",
    "\n",
    "meta_classifier_xgb = xgb.XGBClassifier(param, n_estimators = 232)\n",
    "stacker_xgb = StackingClassifier(classifiers, meta_classifier_xgb)\n",
    "\n",
    "meta_classifier_rf = RandomForestClassifier(n_estimators=1000, random_state=67)\n",
    "stacker_rf = StackingClassifier(classifiers, meta_classifier_rf)\n",
    "\n",
    "meta_classifier_svm = svm.SVC(kernel='rbf', gamma=0.7, C=1)\n",
    "stacker_svm = StackingClassifier(classifiers, meta_classifier_svm)\n"
   ]
  },
  {
   "cell_type": "code",
   "execution_count": 12,
   "metadata": {},
   "outputs": [],
   "source": [
    "#sclf = StackingCVClassifier(classifiers, meta_classifier = clf4, random_state = 42)\n"
   ]
  },
  {
   "cell_type": "code",
   "execution_count": 13,
   "metadata": {},
   "outputs": [],
   "source": [
    "#stacker_dt.fit(X_train, y_train-3)\n",
    "#print('Stacker with lgr acc :', stacker_dt.score(X_val, y_val-3))"
   ]
  },
  {
   "cell_type": "code",
   "execution_count": 17,
   "metadata": {},
   "outputs": [],
   "source": [
    "dense_X = X_train.toarray()\n",
    "dense_X_val = X_val.toarray()\n",
    "dense_X_test = X_test.toarray()"
   ]
  },
  {
   "cell_type": "code",
   "execution_count": 10,
   "metadata": {},
   "outputs": [
    {
     "name": "stdout",
     "output_type": "stream",
     "text": [
      "Stacker with dt acc : 0.7066984608714503\n"
     ]
    }
   ],
   "source": [
    "stacker_knn.fit(dense_X, y_train-3)\n",
    "print('Stacker with knn acc :', stacker_knn.score(dense_X_val, y_val-3))"
   ]
  },
  {
   "cell_type": "code",
   "execution_count": 13,
   "metadata": {},
   "outputs": [
    {
     "name": "stdout",
     "output_type": "stream",
     "text": [
      "Stacker with xgb acc : 0.7106004769130717\n"
     ]
    }
   ],
   "source": [
    "stacker_xgb.fit(dense_X, y_train-3)\n",
    "print('Stacker with xgb acc :', stacker_xgb.score(dense_X_val, y_val-3))"
   ]
  },
  {
   "cell_type": "code",
   "execution_count": 19,
   "metadata": {},
   "outputs": [],
   "source": [
    "stacker_lr.fit(dense_X, y_train-3)\n",
    "print('Stacker with lr acc :', stacker_lr.score(dense_X_val, y_val-3))"
   ]
  },
  {
   "cell_type": "code",
   "execution_count": 13,
   "metadata": {},
   "outputs": [
    {
     "name": "stdout",
     "output_type": "stream",
     "text": [
      "[4. 4. 4. ... 4. 4. 4.]\n"
     ]
    }
   ],
   "source": [
    "prediction = stacker_lr.predict(dense_X_test)+3\n",
    "output_predictions(prediction)\n",
    "print (prediction)"
   ]
  },
  {
   "cell_type": "code",
   "execution_count": null,
   "metadata": {},
   "outputs": [
    {
     "name": "stdout",
     "output_type": "stream",
     "text": [
      "Stacker with rf acc : 0.7184045089963148\n"
     ]
    }
   ],
   "source": [
    "stacker_rf.fit(dense_X, y_train-3)\n",
    "print('Stacker with rf acc :', stacker_rf.score(dense_X_val, y_val-3))"
   ]
  },
  {
   "cell_type": "code",
   "execution_count": 15,
   "metadata": {},
   "outputs": [
    {
     "name": "stdout",
     "output_type": "stream",
     "text": [
      "Stacker with svm acc : 0.7158031649685671\n"
     ]
    }
   ],
   "source": [
    "stacker_svm.fit(dense_X, y_train-3)\n",
    "print('Stacker with svm acc :', stacker_svm.score(dense_X_val, y_val-3))"
   ]
  }
 ],
 "metadata": {
  "kernelspec": {
   "display_name": "Python 3",
   "language": "python",
   "name": "python3"
  },
  "language_info": {
   "codemirror_mode": {
    "name": "ipython",
    "version": 3
   },
   "file_extension": ".py",
   "mimetype": "text/x-python",
   "name": "python",
   "nbconvert_exporter": "python",
   "pygments_lexer": "ipython3",
   "version": "3.10.11"
  },
  "orig_nbformat": 4,
  "vscode": {
   "interpreter": {
    "hash": "449056e4a45b52db97e4be0f9eb617c8f7bfc9621aa20fbcd7c2dc4aebf2696f"
   }
  }
 },
 "nbformat": 4,
 "nbformat_minor": 2
}
