{
 "cells": [
  {
   "cell_type": "code",
   "execution_count": 182,
   "metadata": {},
   "outputs": [],
   "source": [
    "from keras.models import Sequential\n",
    "from keras.layers import Dense\n",
    "\n",
    "# import librart\n",
    "import sklearn\n",
    "import numpy as np\n",
    "import pandas as pd\n",
    "import pickle\n",
    "from scipy.sparse import hstack\n",
    "from sklearn.model_selection import train_test_split\n",
    "from sklearn.ensemble import RandomForestClassifier\n",
    "from sklearn.metrics import accuracy_score\n",
    "import scipy\n",
    "from scipy.sparse import csr_matrix\n",
    "from sklearn.feature_selection import SelectKBest, mutual_info_classif\n",
    "import feature_select\n",
    "import feture_process\n",
    "from scipy.sparse import load_npz\n",
    "from scipy.sparse import load_npz\n",
    "from sklearn.ensemble import BaggingClassifier\n",
    "from sklearn.tree import DecisionTreeClassifier\n",
    "from sklearn.model_selection import train_test_split\n",
    "from keras.callbacks import EarlyStopping\n",
    "from sklearn.model_selection import GridSearchCV\n",
    "from sklearn.preprocessing import StandardScaler\n",
    "from sklearn.pipeline import Pipeline\n",
    "import tensorflow\n",
    "from sklearn.neural_network import MLPClassifier\n",
    "from sklearn.metrics import accuracy_score, f1_score, recall_score, precision_score"
   ]
  },
  {
   "cell_type": "code",
   "execution_count": 183,
   "metadata": {},
   "outputs": [],
   "source": [
    "train_df = pd.read_csv(\"./project_data_files/book_rating_train.csv\")\n",
    "test_df = pd.read_csv(\"./project_data_files/book_rating_test.csv\")"
   ]
  },
  {
   "attachments": {},
   "cell_type": "markdown",
   "metadata": {},
   "source": [
    "One hot code Processing"
   ]
  },
  {
   "cell_type": "code",
   "execution_count": 184,
   "metadata": {},
   "outputs": [],
   "source": [
    "# process Prublisher and Language\n",
    "train_df[\"Language\"], test_df[\"Language\"] = feture_process.docclass_preprocess(train_df[\"Language\"],test_df[\"Language\"],10)\n",
    "train_df[\"Publisher\"], test_df[\"Publisher\"] = feture_process.docclass_preprocess(train_df[\"Publisher\"],test_df[\"Publisher\"],200)"
   ]
  },
  {
   "cell_type": "code",
   "execution_count": 185,
   "metadata": {},
   "outputs": [],
   "source": [
    "# drop_duplicates\n",
    "train_df = train_df.drop_duplicates()\n",
    "train_df = train_df[train_df['pagesNumber'] != 0]\n",
    "train_df = train_df.reset_index(drop=True)"
   ]
  },
  {
   "cell_type": "code",
   "execution_count": 186,
   "metadata": {},
   "outputs": [],
   "source": [
    "# use oneHotCode for Publisher (sklearn)\n",
    "publisher_train_hot = feture_process.process_OneHotEncoder(train_df,\"Publisher\")\n",
    "publisher_test_hot = feture_process.process_OneHotEncoder(test_df,\"Publisher\")\n",
    "train_df = pd.concat([train_df, publisher_train_hot], axis=1)\n",
    "test_df = pd.concat([test_df, publisher_test_hot], axis=1)"
   ]
  },
  {
   "cell_type": "code",
   "execution_count": 187,
   "metadata": {},
   "outputs": [],
   "source": [
    "# use oneHotCode for Language (sklearn)\n",
    "language_train_hot = feture_process.process_OneHotEncoder(train_df,\"Language\")\n",
    "language_test_hot = feture_process.process_OneHotEncoder(test_df,\"Language\")\n",
    "train_df = pd.concat([train_df, language_train_hot], axis=1)\n",
    "test_df = pd.concat([test_df, language_test_hot], axis=1)"
   ]
  },
  {
   "cell_type": "code",
   "execution_count": 188,
   "metadata": {},
   "outputs": [],
   "source": [
    "# use oneHotCode for label (sklearn)\n",
    "label_train_hot = feture_process.process_OneHotEncoder(train_df,\"rating_label\")\n",
    "train_df = pd.concat([train_df, label_train_hot], axis=1)"
   ]
  },
  {
   "attachments": {},
   "cell_type": "markdown",
   "metadata": {},
   "source": [
    "Countvectorizer processing"
   ]
  },
  {
   "cell_type": "code",
   "execution_count": 189,
   "metadata": {},
   "outputs": [],
   "source": [
    "# train_name_countvectorizer\n",
    "train_name_countvectorizer = pickle.load(open(\"./project_data_files/book_text_features_countvec/train_name_countvectorizer.pkl\", \"rb\"))\n",
    "train_name_dic = train_name_countvectorizer.vocabulary_\n",
    "\n",
    "# train_authors_countvectorizer\n",
    "train_authors_countvectorizer = pickle.load(open(\"./project_data_files/book_text_features_countvec/train_authors_countvectorizer.pkl\", \"rb\"))\n",
    "train_authors_dic = train_authors_countvectorizer.vocabulary_\n",
    "\n",
    "# train_desc_countvectorizer\n",
    "train_desc_countvectorizer = pickle.load(open(\"./project_data_files/book_text_features_countvec/train_desc_countvectorizer.pkl\", \"rb\"))\n",
    "train_desc__dic = train_desc_countvectorizer.vocabulary_\n",
    "\n",
    "# process vector features\n",
    "train_name_features = train_name_countvectorizer.transform(train_df['Name'])\n",
    "train_authors_features = train_authors_countvectorizer.transform(train_df['Authors'])\n",
    "train_desc_features = train_desc_countvectorizer.transform(train_df['Description'])\n",
    "other_features_df = train_df.drop(columns=['Name', 'Authors', 'Description', 'Publisher', 'Language','rating_label_3.0', 'rating_label_4.0', 'rating_label_5.0', 'rating_label'])"
   ]
  },
  {
   "cell_type": "code",
   "execution_count": 190,
   "metadata": {},
   "outputs": [],
   "source": [
    "# new sparse features\n",
    "sparse_features = hstack([train_name_features, train_authors_features, train_desc_features])\n",
    "# new train features\n",
    "dense_features = csr_matrix(other_features_df.values)\n",
    "train_features = hstack([sparse_features, dense_features])\n",
    "\n",
    "\n",
    "# process test features\n",
    "test_name_features = scipy.sparse.load_npz('./project_data_files/book_text_features_countvec/test_name_vec.npz')\n",
    "test_authors_features = scipy.sparse.load_npz('./project_data_files/book_text_features_countvec/test_authors_vec.npz')\n",
    "test_desc_features = scipy.sparse.load_npz('./project_data_files/book_text_features_countvec/test_desc_vec.npz')\n",
    "test_other_features_df = test_df.drop(columns=['Name', 'Authors', 'Description', 'Publisher', 'Language'])\n",
    "\n",
    "test_sparse_features = hstack([test_name_features, test_authors_features, test_desc_features])\n",
    "new_dense_features = csr_matrix(test_other_features_df.values)\n",
    "test_features = hstack([test_sparse_features, new_dense_features])"
   ]
  },
  {
   "attachments": {},
   "cell_type": "markdown",
   "metadata": {},
   "source": [
    "doc2vec processing"
   ]
  },
  {
   "cell_type": "code",
   "execution_count": null,
   "metadata": {},
   "outputs": [],
   "source": [
    "# use doc2vec\n",
    "# use doc2vec\n",
    "# use doc2vec\n",
    "# use doc2vec\n",
    "\n",
    "# process vector features\n",
    "train_name_features = pd.read_csv(r\"./project_data_files/book_text_features_doc2vec/train_name_doc2vec100.csv\", index_col = False, delimiter = ',', header=None)\n",
    "train_authors_features = pd.read_csv(r\"./project_data_files/book_text_features_doc2vec/train_authors_doc2vec20.csv\", index_col = False, delimiter = ',', header=None)\n",
    "train_desc_features = pd.read_csv(r\"./project_data_files/book_text_features_doc2vec/train_desc_doc2vec100.csv\", index_col = False, delimiter = ',', header=None)\n",
    "other_features_df = train_df.drop(columns=['Name', 'Authors', 'Description', 'Publisher', 'Language', 'rating_label', 'rating_label_3.0', 'rating_label_4.0', 'rating_label_5.0'])\n",
    "train_features = pd.concat([train_name_features, train_authors_features, train_desc_features, other_features_df], axis=1)"
   ]
  },
  {
   "cell_type": "code",
   "execution_count": null,
   "metadata": {},
   "outputs": [],
   "source": [
    "# use doc2vec\n",
    "# use doc2vec\n",
    "# use doc2vec\n",
    "# use doc2vec\n",
    "\n",
    "# process test features\n",
    "test_name_features = pd.read_csv(r\"./project_data_files/book_text_features_doc2vec/test_name_doc2vec100.csv\", index_col = False, delimiter = ',', header=None)\n",
    "test_authors_features = pd.read_csv(r\"./project_data_files/book_text_features_doc2vec/test_authors_doc2vec20.csv\", index_col = False, delimiter = ',', header=None)\n",
    "test_desc_features = pd.read_csv(r\"./project_data_files/book_text_features_doc2vec/test_desc_doc2vec100.csv\", index_col = False, delimiter = ',', header=None)\n",
    "test_other_features_df = test_df.drop(columns=['Name', 'Authors', 'Description', 'Publisher', 'Language'])\n",
    "test_features = pd.concat([test_name_features, test_authors_features, test_desc_features, test_other_features_df], axis=1)\n"
   ]
  },
  {
   "attachments": {},
   "cell_type": "markdown",
   "metadata": {},
   "source": [
    "Feature selection"
   ]
  },
  {
   "cell_type": "code",
   "execution_count": null,
   "metadata": {},
   "outputs": [],
   "source": [
    "selected_features,selected_features_test = train_features,test_features"
   ]
  },
  {
   "cell_type": "code",
   "execution_count": null,
   "metadata": {},
   "outputs": [],
   "source": [
    "selected_features,selected_features_test = feature_select.MI(train_df,train_features,test_features,12000)"
   ]
  },
  {
   "cell_type": "code",
   "execution_count": 202,
   "metadata": {},
   "outputs": [],
   "source": [
    "selected_features,selected_features_test = feature_select.chi_square(train_df,train_features,test_features,12000)"
   ]
  },
  {
   "cell_type": "code",
   "execution_count": 70,
   "metadata": {},
   "outputs": [],
   "source": [
    "selected_features,selected_features_test = feature_select.variance_ratio(train_df,train_features,test_features,0.8)"
   ]
  },
  {
   "cell_type": "code",
   "execution_count": null,
   "metadata": {},
   "outputs": [],
   "source": []
  },
  {
   "cell_type": "code",
   "execution_count": 73,
   "metadata": {},
   "outputs": [],
   "source": [
    "selected_features = load_npz(\"selected_features_label_one_hot_12000.npz\")\n",
    "selected_features_test = load_npz(\"selected_features_test_label_one_hot_12000.npz\")"
   ]
  },
  {
   "attachments": {},
   "cell_type": "markdown",
   "metadata": {},
   "source": [
    "hyper parameter choose"
   ]
  },
  {
   "cell_type": "code",
   "execution_count": null,
   "metadata": {},
   "outputs": [],
   "source": [
    "def create_mlp(input_dim, hidden_layers=1, hidden_units=64, activation='relu'):\n",
    "    model = Sequential()\n",
    "    model.add(Dense(hidden_units, input_dim=input_dim, activation=activation,kernel_regularizer=l2(0.0001)))\n",
    "\n",
    "    for _ in range(hidden_layers - 1):\n",
    "        model.add(Dense(hidden_units, activation=activation))\n",
    "\n",
    "    model.add(Dense(3, activation='softmax'))\n",
    "    model.compile(loss='sparse_categorical_crossentropy', optimizer='adam', metrics=['accuracy'])\n",
    "    return model"
   ]
  },
  {
   "cell_type": "code",
   "execution_count": null,
   "metadata": {},
   "outputs": [],
   "source": [
    "from tensorflow.keras.wrappers.scikit_learn import KerasClassifier\n",
    "input_dim = selected_features.shape[1] \n",
    "mlp = KerasClassifier(build_fn=create_mlp, input_dim=input_dim, verbose=0)\n",
    "\n",
    "param_grid = {\n",
    "    'hidden_layers': [1, 2, 3],\n",
    "    'hidden_units': [32, 64, 128],\n",
    "    'activation': ['relu', 'tanh'],\n",
    "    'batch_size': [32, 64],\n",
    "    'epochs': [50, 100],\n",
    "}\n",
    "pipeline = Pipeline([\n",
    "    ('scaler', StandardScaler()), \n",
    "    ('gridsearch', GridSearchCV(mlp, param_grid, cv=3, n_jobs=-1, verbose=1)),\n",
    "])\n",
    "X_train, X_val, y_train, y_val = train_test_split(selected_features, train_df[\"rating_label\"], test_size=0.3, random_state=66)\n",
    "X_train = X_train.toarray()\n",
    "X_val = X_val.toarray()"
   ]
  },
  {
   "cell_type": "code",
   "execution_count": null,
   "metadata": {},
   "outputs": [],
   "source": [
    "pipeline.fit(X_train, y_train)"
   ]
  },
  {
   "cell_type": "code",
   "execution_count": null,
   "metadata": {},
   "outputs": [],
   "source": [
    "best_params = pipeline.named_steps['gridsearch'].best_params_"
   ]
  },
  {
   "attachments": {},
   "cell_type": "markdown",
   "metadata": {},
   "source": [
    "train model"
   ]
  },
  {
   "cell_type": "code",
   "execution_count": 203,
   "metadata": {},
   "outputs": [],
   "source": [
    "from keras.regularizers import l1, l2\n",
    "import tensorflow as tf\n",
    "from tensorflow.keras import metrics\n",
    "X_train, X_val, y_train, y_val = train_test_split(selected_features, label_train_hot, test_size=0.3, random_state=66)\n",
    "\n",
    "input_dim = selected_features.shape[1] \n",
    "num_classes = label_train_hot.shape[1]\n",
    "\n",
    "model = Sequential()\n",
    "model.add(Dense(64, activation='relu', input_shape=(input_dim,)\n",
    "                , kernel_regularizer=l2(0.0001)\n",
    "                ))\n",
    "model.add(Dense(32, activation='relu', kernel_regularizer=l2(0.0001)))\n",
    "\n",
    "model.add(Dense(num_classes, activation='softmax'))\n",
    "\n",
    "model.compile(optimizer='adam', loss='categorical_crossentropy', metrics=['accuracy'])\n"
   ]
  },
  {
   "cell_type": "code",
   "execution_count": 204,
   "metadata": {},
   "outputs": [],
   "source": [
    "X_train = X_train.toarray()\n",
    "X_val = X_val.toarray()"
   ]
  },
  {
   "cell_type": "code",
   "execution_count": 205,
   "metadata": {},
   "outputs": [],
   "source": [
    "class_weights = {\n",
    "    (1, 0, 0): 2.0,\n",
    "    (0, 1, 0): 1.0,\n",
    "    (0, 0, 1): 3.0\n",
    "}"
   ]
  },
  {
   "cell_type": "code",
   "execution_count": 206,
   "metadata": {},
   "outputs": [],
   "source": [
    "y_train_array = np.array(y_train)\n",
    "sample_weights = np.array([class_weights[tuple(y)] for y in y_train_array])"
   ]
  },
  {
   "cell_type": "code",
   "execution_count": 207,
   "metadata": {},
   "outputs": [],
   "source": [
    "from sklearn.utils import class_weight\n",
    "unique_classes = np.unique(y_train)\n",
    "sample_weights = class_weight.compute_sample_weight(class_weight='balanced', y=y_train)"
   ]
  },
  {
   "cell_type": "code",
   "execution_count": 208,
   "metadata": {},
   "outputs": [
    {
     "name": "stdout",
     "output_type": "stream",
     "text": [
      "Epoch 1/50\n",
      "501/501 [==============================] - 3s 6ms/step - loss: 1.1351 - accuracy: 0.2023 - val_loss: 1.2648 - val_accuracy: 0.2653\n",
      "Epoch 2/50\n",
      "501/501 [==============================] - 3s 5ms/step - loss: 0.8325 - accuracy: 0.2725 - val_loss: 1.2539 - val_accuracy: 0.3291\n",
      "Epoch 3/50\n",
      "501/501 [==============================] - 3s 6ms/step - loss: 0.7293 - accuracy: 0.3419 - val_loss: 1.2611 - val_accuracy: 0.3468\n",
      "Epoch 4/50\n",
      "501/501 [==============================] - 3s 6ms/step - loss: 0.6754 - accuracy: 0.3796 - val_loss: 1.3755 - val_accuracy: 0.3661\n",
      "Epoch 5/50\n",
      "501/501 [==============================] - 3s 6ms/step - loss: 0.6009 - accuracy: 0.4539 - val_loss: 1.1203 - val_accuracy: 0.3957\n",
      "Epoch 6/50\n",
      "501/501 [==============================] - 3s 6ms/step - loss: 0.4660 - accuracy: 0.5391 - val_loss: 1.5309 - val_accuracy: 0.3589\n",
      "Epoch 7/50\n",
      "501/501 [==============================] - 3s 6ms/step - loss: 0.4626 - accuracy: 0.5790 - val_loss: 1.2447 - val_accuracy: 0.4323\n",
      "Epoch 8/50\n",
      "501/501 [==============================] - 3s 6ms/step - loss: 0.4311 - accuracy: 0.6093 - val_loss: 1.5479 - val_accuracy: 0.5011\n",
      "Epoch 9/50\n",
      "501/501 [==============================] - 3s 6ms/step - loss: 0.4598 - accuracy: 0.6021 - val_loss: 0.9963 - val_accuracy: 0.5736\n",
      "Epoch 10/50\n",
      "501/501 [==============================] - 3s 6ms/step - loss: 0.3720 - accuracy: 0.6621 - val_loss: 0.9992 - val_accuracy: 0.6122\n",
      "Epoch 11/50\n",
      "501/501 [==============================] - 3s 6ms/step - loss: 0.4771 - accuracy: 0.6010 - val_loss: 1.0337 - val_accuracy: 0.6034\n",
      "Epoch 12/50\n",
      "501/501 [==============================] - 3s 6ms/step - loss: 0.4118 - accuracy: 0.6728 - val_loss: 1.1252 - val_accuracy: 0.5119\n",
      "Epoch 13/50\n",
      "501/501 [==============================] - 3s 6ms/step - loss: 0.3349 - accuracy: 0.7137 - val_loss: 1.1792 - val_accuracy: 0.5456\n",
      "Epoch 14/50\n",
      "501/501 [==============================] - 3s 6ms/step - loss: 0.3265 - accuracy: 0.7270 - val_loss: 1.0624 - val_accuracy: 0.6155\n",
      "Epoch 15/50\n",
      "501/501 [==============================] - 3s 6ms/step - loss: 0.3416 - accuracy: 0.7352 - val_loss: 1.7903 - val_accuracy: 0.4743\n",
      "Epoch 16/50\n",
      "501/501 [==============================] - 3s 7ms/step - loss: 0.4730 - accuracy: 0.6613 - val_loss: 1.0435 - val_accuracy: 0.5973\n",
      "Epoch 17/50\n",
      "501/501 [==============================] - 3s 6ms/step - loss: 0.3034 - accuracy: 0.7607 - val_loss: 1.0835 - val_accuracy: 0.6269\n",
      "Epoch 18/50\n",
      "501/501 [==============================] - 3s 6ms/step - loss: 0.3009 - accuracy: 0.7742 - val_loss: 1.2576 - val_accuracy: 0.5838\n",
      "Epoch 19/50\n",
      "501/501 [==============================] - 3s 6ms/step - loss: 0.2877 - accuracy: 0.7776 - val_loss: 1.5021 - val_accuracy: 0.5246\n",
      "Epoch 20/50\n",
      "501/501 [==============================] - 3s 6ms/step - loss: 0.3023 - accuracy: 0.7823 - val_loss: 1.0104 - val_accuracy: 0.6333\n",
      "Epoch 21/50\n",
      "501/501 [==============================] - 3s 6ms/step - loss: 0.2575 - accuracy: 0.7992 - val_loss: 1.5842 - val_accuracy: 0.4853\n",
      "Epoch 22/50\n",
      "501/501 [==============================] - 3s 6ms/step - loss: 0.3611 - accuracy: 0.7495 - val_loss: 1.3195 - val_accuracy: 0.5572\n",
      "Epoch 23/50\n",
      "501/501 [==============================] - 3s 6ms/step - loss: 0.2562 - accuracy: 0.8049 - val_loss: 1.2365 - val_accuracy: 0.5883\n",
      "Epoch 24/50\n",
      "501/501 [==============================] - 3s 6ms/step - loss: 0.2229 - accuracy: 0.8390 - val_loss: 1.4923 - val_accuracy: 0.5480\n",
      "Epoch 25/50\n",
      "501/501 [==============================] - 3s 6ms/step - loss: 0.2045 - accuracy: 0.8587 - val_loss: 1.2726 - val_accuracy: 0.6367\n",
      "Epoch 26/50\n",
      "501/501 [==============================] - 3s 6ms/step - loss: 0.3294 - accuracy: 0.7757 - val_loss: 1.3608 - val_accuracy: 0.5444\n",
      "Epoch 27/50\n",
      "501/501 [==============================] - 3s 6ms/step - loss: 0.2087 - accuracy: 0.8482 - val_loss: 1.2876 - val_accuracy: 0.6338\n",
      "Epoch 28/50\n",
      "501/501 [==============================] - 3s 6ms/step - loss: 0.3341 - accuracy: 0.8055 - val_loss: 1.1800 - val_accuracy: 0.5813\n",
      "Epoch 29/50\n",
      "501/501 [==============================] - 3s 5ms/step - loss: 0.1899 - accuracy: 0.8723 - val_loss: 1.3111 - val_accuracy: 0.6521\n",
      "Epoch 30/50\n",
      "501/501 [==============================] - 3s 5ms/step - loss: 0.2204 - accuracy: 0.8555 - val_loss: 1.2876 - val_accuracy: 0.5994\n",
      "Epoch 31/50\n",
      "501/501 [==============================] - 3s 6ms/step - loss: 0.1850 - accuracy: 0.8845 - val_loss: 1.3582 - val_accuracy: 0.6647\n",
      "Epoch 32/50\n",
      "501/501 [==============================] - 3s 5ms/step - loss: 0.1784 - accuracy: 0.8827 - val_loss: 2.8819 - val_accuracy: 0.4460\n",
      "Epoch 33/50\n",
      "501/501 [==============================] - 3s 5ms/step - loss: 0.2380 - accuracy: 0.8473 - val_loss: 1.4413 - val_accuracy: 0.5928\n",
      "Epoch 34/50\n",
      "501/501 [==============================] - 3s 5ms/step - loss: 0.1666 - accuracy: 0.8971 - val_loss: 1.3620 - val_accuracy: 0.6822\n",
      "Epoch 35/50\n",
      "501/501 [==============================] - 3s 6ms/step - loss: 0.1770 - accuracy: 0.8937 - val_loss: 1.4026 - val_accuracy: 0.6546\n",
      "Epoch 36/50\n",
      "501/501 [==============================] - 3s 5ms/step - loss: 0.2511 - accuracy: 0.8486 - val_loss: 1.3480 - val_accuracy: 0.5285\n",
      "Epoch 37/50\n",
      "501/501 [==============================] - 3s 5ms/step - loss: 0.3310 - accuracy: 0.7778 - val_loss: 1.2031 - val_accuracy: 0.6281\n",
      "Epoch 38/50\n",
      "501/501 [==============================] - 3s 5ms/step - loss: 0.1716 - accuracy: 0.8918 - val_loss: 1.7486 - val_accuracy: 0.5728\n",
      "Epoch 39/50\n",
      "501/501 [==============================] - 3s 5ms/step - loss: 0.1509 - accuracy: 0.9105 - val_loss: 1.7596 - val_accuracy: 0.5994\n",
      "Epoch 40/50\n",
      "501/501 [==============================] - 3s 5ms/step - loss: 0.1934 - accuracy: 0.8815 - val_loss: 1.2233 - val_accuracy: 0.6492\n",
      "Epoch 41/50\n",
      "501/501 [==============================] - 3s 5ms/step - loss: 0.2519 - accuracy: 0.8491 - val_loss: 2.1179 - val_accuracy: 0.4576\n",
      "Epoch 42/50\n",
      "501/501 [==============================] - 3s 5ms/step - loss: 0.1931 - accuracy: 0.8749 - val_loss: 1.4293 - val_accuracy: 0.6530\n",
      "Epoch 43/50\n",
      "501/501 [==============================] - 3s 5ms/step - loss: 0.1635 - accuracy: 0.9042 - val_loss: 1.6796 - val_accuracy: 0.6059\n",
      "Epoch 44/50\n",
      "501/501 [==============================] - 3s 5ms/step - loss: 0.1554 - accuracy: 0.9079 - val_loss: 1.6977 - val_accuracy: 0.6014\n",
      "Epoch 45/50\n",
      "501/501 [==============================] - 3s 5ms/step - loss: 0.3290 - accuracy: 0.7884 - val_loss: 1.3231 - val_accuracy: 0.6660\n",
      "Epoch 46/50\n",
      "501/501 [==============================] - 3s 5ms/step - loss: 0.3191 - accuracy: 0.8039 - val_loss: 1.6411 - val_accuracy: 0.5177\n",
      "Epoch 47/50\n",
      "501/501 [==============================] - 3s 5ms/step - loss: 0.1654 - accuracy: 0.8972 - val_loss: 1.4281 - val_accuracy: 0.6577\n",
      "Epoch 48/50\n",
      "501/501 [==============================] - 3s 5ms/step - loss: 0.1838 - accuracy: 0.8887 - val_loss: 1.3593 - val_accuracy: 0.6615\n",
      "Epoch 49/50\n",
      "501/501 [==============================] - 3s 5ms/step - loss: 0.2114 - accuracy: 0.8739 - val_loss: 1.8726 - val_accuracy: 0.4705\n",
      "Epoch 50/50\n",
      "501/501 [==============================] - 3s 5ms/step - loss: 0.1623 - accuracy: 0.8968 - val_loss: 1.5683 - val_accuracy: 0.6310\n"
     ]
    }
   ],
   "source": [
    "mlp = model.fit(X_train, y_train, epochs=50, batch_size=32, validation_data=(X_val, y_val)\n",
    "                 , sample_weight=sample_weights\n",
    "                )"
   ]
  },
  {
   "cell_type": "code",
   "execution_count": 209,
   "metadata": {},
   "outputs": [
    {
     "data": {
      "image/png": "[encoded data removed]",
      "text/plain": [
       "<Figure size 640x480 with 1 Axes>"
      ]
     },
     "metadata": {},
     "output_type": "display_data"
    }
   ],
   "source": [
    "import matplotlib.pyplot as plt\n",
    "\n",
    "plt.figure()\n",
    "plt.plot(mlp.history['loss'], label='Training Loss')\n",
    "plt.plot(mlp.history['val_loss'], label='Validation Loss')\n",
    "plt.xlabel('Epoch')\n",
    "plt.ylabel('Loss')\n",
    "plt.legend()\n",
    "plt.title('Learning Curve')\n",
    "\n",
    "plt.plot(mlp.history['accuracy'], label='Training Accuracy')\n",
    "plt.plot(mlp.history['val_accuracy'], label='Validation Accuracy')\n",
    "plt.xlabel('Epoch')\n",
    "plt.ylabel('Accuracy/Loss')\n",
    "plt.legend(loc='upper left')\n",
    "\n",
    "\n",
    "plt.show()"
   ]
  },
  {
   "cell_type": "code",
   "execution_count": null,
   "metadata": {},
   "outputs": [],
   "source": [
    "type(selected_features)"
   ]
  },
  {
   "cell_type": "code",
   "execution_count": 71,
   "metadata": {},
   "outputs": [],
   "source": [
    "# for variance_ratio slection\n",
    "import tensorflow as tf\n",
    "coo_matrix = selected_features_test.tocoo()\n",
    "indices = np.column_stack((coo_matrix.row, coo_matrix.col))\n",
    "values = coo_matrix.data\n",
    "shape = coo_matrix.shape\n",
    "\n",
    "sparse_tensor = tf.SparseTensor(indices=indices, values=values, dense_shape=shape)\n",
    "ordered_sparse_tensor = tf.sparse.reorder(sparse_tensor)"
   ]
  },
  {
   "cell_type": "code",
   "execution_count": 210,
   "metadata": {},
   "outputs": [
    {
     "name": "stdout",
     "output_type": "stream",
     "text": [
      "215/215 [==============================] - 0s 1ms/step\n"
     ]
    }
   ],
   "source": [
    "# validation\n",
    "prediction_prob = model.predict(X_val)"
   ]
  },
  {
   "cell_type": "code",
   "execution_count": 211,
   "metadata": {},
   "outputs": [],
   "source": [
    "# get predictions\n",
    "prediction_index = np.argmax(prediction_prob, axis=1)\n",
    "ratings = np.array([3.0, 4.0, 5.0])\n",
    "prediction = ratings[prediction_index]\n",
    "\n"
   ]
  },
  {
   "cell_type": "code",
   "execution_count": 212,
   "metadata": {},
   "outputs": [],
   "source": [
    "np_y_val = y_val.values\n",
    "validation_index = np.argmax(np_y_val, axis=1)\n",
    "ratings = np.array([3.0, 4.0, 5.0])\n",
    "validation = ratings[validation_index]"
   ]
  },
  {
   "attachments": {},
   "cell_type": "markdown",
   "metadata": {},
   "source": [
    "Evaluation"
   ]
  },
  {
   "cell_type": "code",
   "execution_count": 213,
   "metadata": {},
   "outputs": [
    {
     "name": "stdout",
     "output_type": "stream",
     "text": [
      "Accuracy: 63.10%\n",
      "Recall: 63.10%\n",
      "Precision: 67.08%\n",
      "F1 score: 64.32%\n"
     ]
    }
   ],
   "source": [
    "print(\"Accuracy: %.2f%%\" % (accuracy_score(validation, prediction) * 100.0))\n",
    "print(\"Recall: %.2f%%\" % (recall_score(validation, prediction, average='weighted') * 100.0))\n",
    "print(\"Precision: %.2f%%\" % (precision_score(validation, prediction, average='weighted') * 100.0))\n",
    "print(\"F1 score: %.2f%%\" % (f1_score(validation, prediction, average='weighted') * 100.0))"
   ]
  },
  {
   "cell_type": "code",
   "execution_count": 23,
   "metadata": {},
   "outputs": [],
   "source": [
    "output_df = pd.DataFrame({'rating_label': prediction})\n",
    "output_df.index += 1\n",
    "output_df.index.name = 'id'\n",
    "output_df.to_csv('./predictions.csv')"
   ]
  },
  {
   "attachments": {},
   "cell_type": "markdown",
   "metadata": {},
   "source": [
    "MLP Bagging"
   ]
  },
  {
   "cell_type": "code",
   "execution_count": 13,
   "metadata": {},
   "outputs": [
    {
     "name": "stdout",
     "output_type": "stream",
     "text": [
      "Accuracy: 0.76\n"
     ]
    }
   ],
   "source": [
    "import numpy as np\n",
    "from sklearn.datasets import load_iris\n",
    "from sklearn.model_selection import train_test_split\n",
    "from sklearn.ensemble import BaggingClassifier\n",
    "from sklearn.neural_network import MLPClassifier\n",
    "from sklearn.metrics import accuracy_score\n",
    "\n",
    "\n"
   ]
  },
  {
   "cell_type": "code",
   "execution_count": 14,
   "metadata": {},
   "outputs": [
    {
     "name": "stdout",
     "output_type": "stream",
     "text": [
      "Accuracy: 0.76\n"
     ]
    }
   ],
   "source": [
    "X_train, X_test, y_train, y_test = train_test_split(selected_features, train_df[\"rating_label\"], test_size=0.3, random_state=42)\n",
    "\n",
    "\n",
    "mlp = MLPClassifier(hidden_layer_sizes=(100,), activation='relu', solver='adam', alpha=0.0001, \n",
    "                    batch_size='auto', learning_rate='constant', learning_rate_init=0.001, \n",
    "                    max_iter=200, shuffle=True, random_state=None)\n",
    "\n",
    "\n",
    "bagging = BaggingClassifier(base_estimator=mlp, n_estimators=10, max_samples=0.8, max_features=1.0, \n",
    "                            bootstrap=True, bootstrap_features=False, n_jobs=-1, random_state=42)\n",
    "\n",
    "\n",
    "bagging.fit(X_train, y_train)\n",
    "\n",
    "y_pred = bagging.predict(X_test)\n",
    "accuracy = accuracy_score(y_test, y_pred)\n",
    "print(f\"Accuracy: {accuracy:.2f}\")"
   ]
  },
  {
   "cell_type": "code",
   "execution_count": 18,
   "metadata": {},
   "outputs": [],
   "source": [
    "y_pred = bagging.predict(selected_features_test)\n",
    "output_df = pd.DataFrame({'rating_label': y_pred})\n",
    "output_df.index += 1\n",
    "output_df.index.name = 'id'\n",
    "output_df.to_csv('./predictions.csv')"
   ]
  },
  {
   "attachments": {},
   "cell_type": "markdown",
   "metadata": {},
   "source": [
    "sklearn MLP"
   ]
  },
  {
   "cell_type": "code",
   "execution_count": 17,
   "metadata": {},
   "outputs": [
    {
     "ename": "NameError",
     "evalue": "name 'MLPClassifier' is not defined",
     "output_type": "error",
     "traceback": [
      "\u001b[1;31m---------------------------------------------------------------------------\u001b[0m",
      "\u001b[1;31mNameError\u001b[0m                                 Traceback (most recent call last)",
      "\u001b[1;32m~\\AppData\\Local\\Temp\\ipykernel_25164\\387747742.py\u001b[0m in \u001b[0;36m<module>\u001b[1;34m\u001b[0m\n\u001b[1;32m----> 1\u001b[1;33m mlp = MLPClassifier(hidden_layer_sizes=(100,), activation='relu', solver='adam', alpha=0.0001, \n\u001b[0m\u001b[0;32m      2\u001b[0m                     \u001b[0mbatch_size\u001b[0m\u001b[1;33m=\u001b[0m\u001b[1;34m'auto'\u001b[0m\u001b[1;33m,\u001b[0m \u001b[0mlearning_rate\u001b[0m\u001b[1;33m=\u001b[0m\u001b[1;34m'constant'\u001b[0m\u001b[1;33m,\u001b[0m \u001b[0mlearning_rate_init\u001b[0m\u001b[1;33m=\u001b[0m\u001b[1;36m0.001\u001b[0m\u001b[1;33m,\u001b[0m\u001b[1;33m\u001b[0m\u001b[1;33m\u001b[0m\u001b[0m\n\u001b[0;32m      3\u001b[0m                      shuffle=True, random_state=None)\n",
      "\u001b[1;31mNameError\u001b[0m: name 'MLPClassifier' is not defined"
     ]
    }
   ],
   "source": [
    "mlp = MLPClassifier(hidden_layer_sizes=(100,), activation='relu', solver='adam', alpha=0.0001, \n",
    "                    batch_size='auto', learning_rate='constant', learning_rate_init=0.001, \n",
    "                     shuffle=True, random_state=None)"
   ]
  },
  {
   "cell_type": "code",
   "execution_count": null,
   "metadata": {},
   "outputs": [],
   "source": []
  }
 ],
 "metadata": {
  "kernelspec": {
   "display_name": "base",
   "language": "python",
   "name": "python3"
  },
  "language_info": {
   "codemirror_mode": {
    "name": "ipython",
    "version": 3
   },
   "file_extension": ".py",
   "mimetype": "text/x-python",
   "name": "python",
   "nbconvert_exporter": "python",
   "pygments_lexer": "ipython3",
   "version": "3.9.13"
  },
  "orig_nbformat": 4
 },
 "nbformat": 4,
 "nbformat_minor": 2
}
