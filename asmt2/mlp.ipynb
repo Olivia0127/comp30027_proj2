{
 "cells": [
  {
   "cell_type": "code",
   "execution_count": 124,
   "metadata": {},
   "outputs": [],
   "source": [
    "from keras.models import Sequential\n",
    "from keras.layers import Dense\n",
    "\n",
    "# import librart\n",
    "import sklearn\n",
    "import numpy as np\n",
    "import pandas as pd\n",
    "import pickle\n",
    "from scipy.sparse import hstack\n",
    "from sklearn.model_selection import train_test_split\n",
    "from sklearn.ensemble import RandomForestClassifier\n",
    "from sklearn.metrics import accuracy_score\n",
    "import scipy\n",
    "from scipy.sparse import csr_matrix\n",
    "from sklearn.feature_selection import SelectKBest, mutual_info_classif\n",
    "import feature_select\n",
    "import feture_process\n",
    "from scipy.sparse import load_npz\n",
    "from scipy.sparse import load_npz\n",
    "from sklearn.ensemble import BaggingClassifier\n",
    "from sklearn.tree import DecisionTreeClassifier\n",
    "from sklearn.model_selection import train_test_split\n",
    "from keras.callbacks import EarlyStopping\n",
    "from sklearn.model_selection import GridSearchCV\n",
    "from sklearn.preprocessing import StandardScaler\n",
    "from sklearn.pipeline import Pipeline\n",
    "import tensorflow\n",
    "from sklearn.neural_network import MLPClassifier\n",
    "from sklearn.metrics import accuracy_score, f1_score, recall_score, precision_score"
   ]
  },
  {
   "cell_type": "code",
   "execution_count": 125,
   "metadata": {},
   "outputs": [],
   "source": [
    "train_df = pd.read_csv(\"./project_data_files/book_rating_train.csv\")\n",
    "test_df = pd.read_csv(\"./project_data_files/book_rating_test.csv\")"
   ]
  },
  {
   "attachments": {},
   "cell_type": "markdown",
   "metadata": {},
   "source": [
    "One hot code Processing"
   ]
  },
  {
   "cell_type": "code",
   "execution_count": 126,
   "metadata": {},
   "outputs": [],
   "source": [
    "# process Prublisher and Language\n",
    "train_df[\"Language\"], test_df[\"Language\"] = feture_process.docclass_preprocess(train_df[\"Language\"],test_df[\"Language\"],10)\n",
    "train_df[\"Publisher\"], test_df[\"Publisher\"] = feture_process.docclass_preprocess(train_df[\"Publisher\"],test_df[\"Publisher\"],200)"
   ]
  },
  {
   "cell_type": "code",
   "execution_count": 127,
   "metadata": {},
   "outputs": [],
   "source": [
    "# drop_duplicates\n",
    "train_df = train_df.drop_duplicates()\n",
    "train_df = train_df[train_df['pagesNumber'] != 0]\n",
    "train_df = train_df.reset_index(drop=True)"
   ]
  },
  {
   "cell_type": "code",
   "execution_count": 128,
   "metadata": {},
   "outputs": [],
   "source": [
    "# use oneHotCode for Publisher (sklearn)\n",
    "publisher_train_hot = feture_process.process_OneHotEncoder(train_df,\"Publisher\")\n",
    "publisher_test_hot = feture_process.process_OneHotEncoder(test_df,\"Publisher\")\n",
    "train_df = pd.concat([train_df, publisher_train_hot], axis=1)\n",
    "test_df = pd.concat([test_df, publisher_test_hot], axis=1)"
   ]
  },
  {
   "cell_type": "code",
   "execution_count": 129,
   "metadata": {},
   "outputs": [],
   "source": [
    "# use oneHotCode for Language (sklearn)\n",
    "language_train_hot = feture_process.process_OneHotEncoder(train_df,\"Language\")\n",
    "language_test_hot = feture_process.process_OneHotEncoder(test_df,\"Language\")\n",
    "train_df = pd.concat([train_df, language_train_hot], axis=1)\n",
    "test_df = pd.concat([test_df, language_test_hot], axis=1)"
   ]
  },
  {
   "cell_type": "code",
   "execution_count": 130,
   "metadata": {},
   "outputs": [],
   "source": [
    "# use oneHotCode for label (sklearn)\n",
    "label_train_hot = feture_process.process_OneHotEncoder(train_df,\"rating_label\")\n",
    "train_df = pd.concat([train_df, label_train_hot], axis=1)"
   ]
  },
  {
   "attachments": {},
   "cell_type": "markdown",
   "metadata": {},
   "source": [
    "Countvectorizer processing"
   ]
  },
  {
   "cell_type": "code",
   "execution_count": 131,
   "metadata": {},
   "outputs": [],
   "source": [
    "# train_name_countvectorizer\n",
    "train_name_countvectorizer = pickle.load(open(\"./project_data_files/book_text_features_countvec/train_name_countvectorizer.pkl\", \"rb\"))\n",
    "train_name_dic = train_name_countvectorizer.vocabulary_\n",
    "\n",
    "# train_authors_countvectorizer\n",
    "train_authors_countvectorizer = pickle.load(open(\"./project_data_files/book_text_features_countvec/train_authors_countvectorizer.pkl\", \"rb\"))\n",
    "train_authors_dic = train_authors_countvectorizer.vocabulary_\n",
    "\n",
    "# train_desc_countvectorizer\n",
    "train_desc_countvectorizer = pickle.load(open(\"./project_data_files/book_text_features_countvec/train_desc_countvectorizer.pkl\", \"rb\"))\n",
    "train_desc__dic = train_desc_countvectorizer.vocabulary_\n",
    "\n",
    "# process vector features\n",
    "train_name_features = train_name_countvectorizer.transform(train_df['Name'])\n",
    "train_authors_features = train_authors_countvectorizer.transform(train_df['Authors'])\n",
    "train_desc_features = train_desc_countvectorizer.transform(train_df['Description'])\n",
    "other_features_df = train_df.drop(columns=['Name', 'Authors', 'Description', 'Publisher', 'Language','rating_label_3.0', 'rating_label_4.0', 'rating_label_5.0', 'rating_label'])"
   ]
  },
  {
   "cell_type": "code",
   "execution_count": 132,
   "metadata": {},
   "outputs": [],
   "source": [
    "# new sparse features\n",
    "sparse_features = hstack([train_name_features, train_authors_features, train_desc_features])\n",
    "# new train features\n",
    "dense_features = csr_matrix(other_features_df.values)\n",
    "train_features = hstack([sparse_features, dense_features])\n",
    "\n",
    "\n",
    "# process test features\n",
    "test_name_features = scipy.sparse.load_npz('./project_data_files/book_text_features_countvec/test_name_vec.npz')\n",
    "test_authors_features = scipy.sparse.load_npz('./project_data_files/book_text_features_countvec/test_authors_vec.npz')\n",
    "test_desc_features = scipy.sparse.load_npz('./project_data_files/book_text_features_countvec/test_desc_vec.npz')\n",
    "test_other_features_df = test_df.drop(columns=['Name', 'Authors', 'Description', 'Publisher', 'Language'])\n",
    "\n",
    "test_sparse_features = hstack([test_name_features, test_authors_features, test_desc_features])\n",
    "new_dense_features = csr_matrix(test_other_features_df.values)\n",
    "test_features = hstack([test_sparse_features, new_dense_features])"
   ]
  },
  {
   "attachments": {},
   "cell_type": "markdown",
   "metadata": {},
   "source": [
    "doc2vec processing"
   ]
  },
  {
   "cell_type": "code",
   "execution_count": null,
   "metadata": {},
   "outputs": [],
   "source": [
    "# use doc2vec\n",
    "# use doc2vec\n",
    "# use doc2vec\n",
    "# use doc2vec\n",
    "\n",
    "# process vector features\n",
    "train_name_features = pd.read_csv(r\"./project_data_files/book_text_features_doc2vec/train_name_doc2vec100.csv\", index_col = False, delimiter = ',', header=None)\n",
    "train_authors_features = pd.read_csv(r\"./project_data_files/book_text_features_doc2vec/train_authors_doc2vec20.csv\", index_col = False, delimiter = ',', header=None)\n",
    "train_desc_features = pd.read_csv(r\"./project_data_files/book_text_features_doc2vec/train_desc_doc2vec100.csv\", index_col = False, delimiter = ',', header=None)\n",
    "other_features_df = train_df.drop(columns=['Name', 'Authors', 'Description', 'Publisher', 'Language', 'rating_label', 'rating_label_3.0', 'rating_label_4.0', 'rating_label_5.0'])\n",
    "train_features = pd.concat([train_name_features, train_authors_features, train_desc_features, other_features_df], axis=1)"
   ]
  },
  {
   "cell_type": "code",
   "execution_count": null,
   "metadata": {},
   "outputs": [],
   "source": [
    "# use doc2vec\n",
    "# use doc2vec\n",
    "# use doc2vec\n",
    "# use doc2vec\n",
    "\n",
    "# process test features\n",
    "test_name_features = pd.read_csv(r\"./project_data_files/book_text_features_doc2vec/test_name_doc2vec100.csv\", index_col = False, delimiter = ',', header=None)\n",
    "test_authors_features = pd.read_csv(r\"./project_data_files/book_text_features_doc2vec/test_authors_doc2vec20.csv\", index_col = False, delimiter = ',', header=None)\n",
    "test_desc_features = pd.read_csv(r\"./project_data_files/book_text_features_doc2vec/test_desc_doc2vec100.csv\", index_col = False, delimiter = ',', header=None)\n",
    "test_other_features_df = test_df.drop(columns=['Name', 'Authors', 'Description', 'Publisher', 'Language'])\n",
    "test_features = pd.concat([test_name_features, test_authors_features, test_desc_features, test_other_features_df], axis=1)\n"
   ]
  },
  {
   "attachments": {},
   "cell_type": "markdown",
   "metadata": {},
   "source": [
    "Feature selection"
   ]
  },
  {
   "cell_type": "code",
   "execution_count": null,
   "metadata": {},
   "outputs": [],
   "source": [
    "selected_features,selected_features_test = train_features,test_features"
   ]
  },
  {
   "cell_type": "code",
   "execution_count": null,
   "metadata": {},
   "outputs": [],
   "source": [
    "selected_features,selected_features_test = feature_select.MI(train_df,train_features,test_features,12000)"
   ]
  },
  {
   "cell_type": "code",
   "execution_count": 133,
   "metadata": {},
   "outputs": [],
   "source": [
    "selected_features,selected_features_test = feature_select.chi_square(train_df,train_features,test_features,12000)"
   ]
  },
  {
   "cell_type": "code",
   "execution_count": 70,
   "metadata": {},
   "outputs": [],
   "source": [
    "selected_features,selected_features_test = feature_select.variance_ratio(train_df,train_features,test_features,0.8)"
   ]
  },
  {
   "cell_type": "code",
   "execution_count": null,
   "metadata": {},
   "outputs": [],
   "source": []
  },
  {
   "cell_type": "code",
   "execution_count": 73,
   "metadata": {},
   "outputs": [],
   "source": [
    "selected_features = load_npz(\"selected_features_label_one_hot_12000.npz\")\n",
    "selected_features_test = load_npz(\"selected_features_test_label_one_hot_12000.npz\")"
   ]
  },
  {
   "attachments": {},
   "cell_type": "markdown",
   "metadata": {},
   "source": [
    "hyper parameter choose"
   ]
  },
  {
   "cell_type": "code",
   "execution_count": null,
   "metadata": {},
   "outputs": [],
   "source": [
    "def create_mlp(input_dim, hidden_layers=1, hidden_units=64, activation='relu'):\n",
    "    model = Sequential()\n",
    "    model.add(Dense(hidden_units, input_dim=input_dim, activation=activation,kernel_regularizer=l2(0.0001)))\n",
    "\n",
    "    for _ in range(hidden_layers - 1):\n",
    "        model.add(Dense(hidden_units, activation=activation))\n",
    "\n",
    "    model.add(Dense(3, activation='softmax'))\n",
    "    model.compile(loss='sparse_categorical_crossentropy', optimizer='adam', metrics=['accuracy'])\n",
    "    return model"
   ]
  },
  {
   "cell_type": "code",
   "execution_count": null,
   "metadata": {},
   "outputs": [],
   "source": [
    "from tensorflow.keras.wrappers.scikit_learn import KerasClassifier\n",
    "input_dim = selected_features.shape[1] \n",
    "mlp = KerasClassifier(build_fn=create_mlp, input_dim=input_dim, verbose=0)\n",
    "\n",
    "param_grid = {\n",
    "    'hidden_layers': [1, 2, 3],\n",
    "    'hidden_units': [32, 64, 128],\n",
    "    'activation': ['relu', 'tanh'],\n",
    "    'batch_size': [32, 64],\n",
    "    'epochs': [50, 100],\n",
    "}\n",
    "pipeline = Pipeline([\n",
    "    ('scaler', StandardScaler()), \n",
    "    ('gridsearch', GridSearchCV(mlp, param_grid, cv=3, n_jobs=-1, verbose=1)),\n",
    "])\n",
    "X_train, X_val, y_train, y_val = train_test_split(selected_features, train_df[\"rating_label\"], test_size=0.3, random_state=66)\n",
    "X_train = X_train.toarray()\n",
    "X_val = X_val.toarray()"
   ]
  },
  {
   "cell_type": "code",
   "execution_count": null,
   "metadata": {},
   "outputs": [],
   "source": [
    "pipeline.fit(X_train, y_train)"
   ]
  },
  {
   "cell_type": "code",
   "execution_count": null,
   "metadata": {},
   "outputs": [],
   "source": [
    "best_params = pipeline.named_steps['gridsearch'].best_params_"
   ]
  },
  {
   "attachments": {},
   "cell_type": "markdown",
   "metadata": {},
   "source": [
    "train model"
   ]
  },
  {
   "cell_type": "code",
   "execution_count": 164,
   "metadata": {},
   "outputs": [
    {
     "ename": "TypeError",
     "evalue": "add() got an unexpected keyword argument 'kernel_regularizer'",
     "output_type": "error",
     "traceback": [
      "\u001b[1;31m---------------------------------------------------------------------------\u001b[0m",
      "\u001b[1;31mTypeError\u001b[0m                                 Traceback (most recent call last)",
      "\u001b[1;32m~\\AppData\\Local\\Temp\\ipykernel_25164\\1312304709.py\u001b[0m in \u001b[0;36m<module>\u001b[1;34m\u001b[0m\n\u001b[0;32m     11\u001b[0m                 \u001b[1;33m,\u001b[0m \u001b[0mkernel_regularizer\u001b[0m\u001b[1;33m=\u001b[0m\u001b[0ml2\u001b[0m\u001b[1;33m(\u001b[0m\u001b[1;36m0.0001\u001b[0m\u001b[1;33m)\u001b[0m\u001b[1;33m\u001b[0m\u001b[1;33m\u001b[0m\u001b[0m\n\u001b[0;32m     12\u001b[0m                 ))\n\u001b[1;32m---> 13\u001b[1;33m \u001b[0mmodel\u001b[0m\u001b[1;33m.\u001b[0m\u001b[0madd\u001b[0m\u001b[1;33m(\u001b[0m\u001b[0mDense\u001b[0m\u001b[1;33m(\u001b[0m\u001b[1;36m32\u001b[0m\u001b[1;33m,\u001b[0m \u001b[0mactivation\u001b[0m\u001b[1;33m=\u001b[0m\u001b[1;34m'relu'\u001b[0m\u001b[1;33m)\u001b[0m\u001b[1;33m,\u001b[0m \u001b[0mkernel_regularizer\u001b[0m\u001b[1;33m=\u001b[0m\u001b[0ml2\u001b[0m\u001b[1;33m(\u001b[0m\u001b[1;36m0.0001\u001b[0m\u001b[1;33m)\u001b[0m\u001b[1;33m)\u001b[0m\u001b[1;33m\u001b[0m\u001b[1;33m\u001b[0m\u001b[0m\n\u001b[0m\u001b[0;32m     14\u001b[0m \u001b[1;33m\u001b[0m\u001b[0m\n\u001b[0;32m     15\u001b[0m \u001b[1;33m\u001b[0m\u001b[0m\n",
      "\u001b[1;32m~\\AppData\\Roaming\\Python\\Python39\\site-packages\\tensorflow\\python\\trackable\\base.py\u001b[0m in \u001b[0;36m_method_wrapper\u001b[1;34m(self, *args, **kwargs)\u001b[0m\n\u001b[0;32m    203\u001b[0m     \u001b[0mself\u001b[0m\u001b[1;33m.\u001b[0m\u001b[0m_self_setattr_tracking\u001b[0m \u001b[1;33m=\u001b[0m \u001b[1;32mFalse\u001b[0m  \u001b[1;31m# pylint: disable=protected-access\u001b[0m\u001b[1;33m\u001b[0m\u001b[1;33m\u001b[0m\u001b[0m\n\u001b[0;32m    204\u001b[0m     \u001b[1;32mtry\u001b[0m\u001b[1;33m:\u001b[0m\u001b[1;33m\u001b[0m\u001b[1;33m\u001b[0m\u001b[0m\n\u001b[1;32m--> 205\u001b[1;33m       \u001b[0mresult\u001b[0m \u001b[1;33m=\u001b[0m \u001b[0mmethod\u001b[0m\u001b[1;33m(\u001b[0m\u001b[0mself\u001b[0m\u001b[1;33m,\u001b[0m \u001b[1;33m*\u001b[0m\u001b[0margs\u001b[0m\u001b[1;33m,\u001b[0m \u001b[1;33m**\u001b[0m\u001b[0mkwargs\u001b[0m\u001b[1;33m)\u001b[0m\u001b[1;33m\u001b[0m\u001b[1;33m\u001b[0m\u001b[0m\n\u001b[0m\u001b[0;32m    206\u001b[0m     \u001b[1;32mfinally\u001b[0m\u001b[1;33m:\u001b[0m\u001b[1;33m\u001b[0m\u001b[1;33m\u001b[0m\u001b[0m\n\u001b[0;32m    207\u001b[0m       \u001b[0mself\u001b[0m\u001b[1;33m.\u001b[0m\u001b[0m_self_setattr_tracking\u001b[0m \u001b[1;33m=\u001b[0m \u001b[0mprevious_value\u001b[0m  \u001b[1;31m# pylint: disable=protected-access\u001b[0m\u001b[1;33m\u001b[0m\u001b[1;33m\u001b[0m\u001b[0m\n",
      "\u001b[1;32mc:\\Users\\Alserial\\anaconda3\\lib\\site-packages\\keras\\utils\\traceback_utils.py\u001b[0m in \u001b[0;36merror_handler\u001b[1;34m(*args, **kwargs)\u001b[0m\n\u001b[0;32m     68\u001b[0m             \u001b[1;31m# To get the full stack trace, call:\u001b[0m\u001b[1;33m\u001b[0m\u001b[1;33m\u001b[0m\u001b[0m\n\u001b[0;32m     69\u001b[0m             \u001b[1;31m# `tf.debugging.disable_traceback_filtering()`\u001b[0m\u001b[1;33m\u001b[0m\u001b[1;33m\u001b[0m\u001b[0m\n\u001b[1;32m---> 70\u001b[1;33m             \u001b[1;32mraise\u001b[0m \u001b[0me\u001b[0m\u001b[1;33m.\u001b[0m\u001b[0mwith_traceback\u001b[0m\u001b[1;33m(\u001b[0m\u001b[0mfiltered_tb\u001b[0m\u001b[1;33m)\u001b[0m \u001b[1;32mfrom\u001b[0m \u001b[1;32mNone\u001b[0m\u001b[1;33m\u001b[0m\u001b[1;33m\u001b[0m\u001b[0m\n\u001b[0m\u001b[0;32m     71\u001b[0m         \u001b[1;32mfinally\u001b[0m\u001b[1;33m:\u001b[0m\u001b[1;33m\u001b[0m\u001b[1;33m\u001b[0m\u001b[0m\n\u001b[0;32m     72\u001b[0m             \u001b[1;32mdel\u001b[0m \u001b[0mfiltered_tb\u001b[0m\u001b[1;33m\u001b[0m\u001b[1;33m\u001b[0m\u001b[0m\n",
      "\u001b[1;32mc:\\Users\\Alserial\\anaconda3\\lib\\site-packages\\keras\\utils\\traceback_utils.py\u001b[0m in \u001b[0;36merror_handler\u001b[1;34m(*args, **kwargs)\u001b[0m\n\u001b[0;32m     63\u001b[0m         \u001b[0mfiltered_tb\u001b[0m \u001b[1;33m=\u001b[0m \u001b[1;32mNone\u001b[0m\u001b[1;33m\u001b[0m\u001b[1;33m\u001b[0m\u001b[0m\n\u001b[0;32m     64\u001b[0m         \u001b[1;32mtry\u001b[0m\u001b[1;33m:\u001b[0m\u001b[1;33m\u001b[0m\u001b[1;33m\u001b[0m\u001b[0m\n\u001b[1;32m---> 65\u001b[1;33m             \u001b[1;32mreturn\u001b[0m \u001b[0mfn\u001b[0m\u001b[1;33m(\u001b[0m\u001b[1;33m*\u001b[0m\u001b[0margs\u001b[0m\u001b[1;33m,\u001b[0m \u001b[1;33m**\u001b[0m\u001b[0mkwargs\u001b[0m\u001b[1;33m)\u001b[0m\u001b[1;33m\u001b[0m\u001b[1;33m\u001b[0m\u001b[0m\n\u001b[0m\u001b[0;32m     66\u001b[0m         \u001b[1;32mexcept\u001b[0m \u001b[0mException\u001b[0m \u001b[1;32mas\u001b[0m \u001b[0me\u001b[0m\u001b[1;33m:\u001b[0m\u001b[1;33m\u001b[0m\u001b[1;33m\u001b[0m\u001b[0m\n\u001b[0;32m     67\u001b[0m             \u001b[0mfiltered_tb\u001b[0m \u001b[1;33m=\u001b[0m \u001b[0m_process_traceback_frames\u001b[0m\u001b[1;33m(\u001b[0m\u001b[0me\u001b[0m\u001b[1;33m.\u001b[0m\u001b[0m__traceback__\u001b[0m\u001b[1;33m)\u001b[0m\u001b[1;33m\u001b[0m\u001b[1;33m\u001b[0m\u001b[0m\n",
      "\u001b[1;31mTypeError\u001b[0m: add() got an unexpected keyword argument 'kernel_regularizer'"
     ]
    }
   ],
   "source": [
    "from keras.regularizers import l1, l2\n",
    "import tensorflow as tf\n",
    "from tensorflow.keras import metrics\n",
    "X_train, X_val, y_train, y_val = train_test_split(selected_features, label_train_hot, test_size=0.3, random_state=66)\n",
    "\n",
    "input_dim = selected_features.shape[1] \n",
    "num_classes = label_train_hot.shape[1]\n",
    "\n",
    "model = Sequential()\n",
    "model.add(Dense(64, activation='relu', input_shape=(input_dim,)\n",
    "                , kernel_regularizer=l2(0.0001)\n",
    "                ))\n",
    "model.add(Dense(32, activation='relu', kernel_regularizer=l2(0.0001)))\n",
    "\n",
    "model.add(Dense(num_classes, activation='softmax'))\n",
    "\n",
    "model.compile(optimizer='adam', loss='categorical_crossentropy', metrics=['accuracy'])\n"
   ]
  },
  {
   "cell_type": "code",
   "execution_count": 161,
   "metadata": {},
   "outputs": [],
   "source": [
    "X_train = X_train.toarray()\n",
    "X_val = X_val.toarray()"
   ]
  },
  {
   "cell_type": "code",
   "execution_count": 156,
   "metadata": {},
   "outputs": [],
   "source": [
    "class_weights = {\n",
    "    (1, 0, 0): 2.0,\n",
    "    (0, 1, 0): 1.0,\n",
    "    (0, 0, 1): 3.0\n",
    "}"
   ]
  },
  {
   "cell_type": "code",
   "execution_count": 157,
   "metadata": {},
   "outputs": [],
   "source": [
    "y_train_array = np.array(y_train)\n",
    "sample_weights = np.array([class_weights[tuple(y)] for y in y_train_array])"
   ]
  },
  {
   "cell_type": "code",
   "execution_count": null,
   "metadata": {},
   "outputs": [],
   "source": [
    "from sklearn.utils import class_weight\n",
    "unique_classes = np.unique(y_train)\n",
    "sample_weights = class_weight.compute_sample_weight(class_weight='balanced', y=y_train)"
   ]
  },
  {
   "cell_type": "code",
   "execution_count": 162,
   "metadata": {},
   "outputs": [
    {
     "name": "stdout",
     "output_type": "stream",
     "text": [
      "Epoch 1/50\n",
      "501/501 [==============================] - 11s 20ms/step - loss: 0.7757 - accuracy: 0.7041 - val_loss: 0.7304 - val_accuracy: 0.7166\n",
      "Epoch 2/50\n",
      "501/501 [==============================] - 10s 19ms/step - loss: 0.6566 - accuracy: 0.7450 - val_loss: 0.7489 - val_accuracy: 0.6855\n",
      "Epoch 3/50\n",
      "501/501 [==============================] - 10s 19ms/step - loss: 0.5937 - accuracy: 0.7707 - val_loss: 0.7653 - val_accuracy: 0.7220\n",
      "Epoch 4/50\n",
      "501/501 [==============================] - 9s 19ms/step - loss: 0.5659 - accuracy: 0.7913 - val_loss: 0.7746 - val_accuracy: 0.7294\n",
      "Epoch 5/50\n",
      "501/501 [==============================] - 9s 19ms/step - loss: 0.5482 - accuracy: 0.8119 - val_loss: 0.8646 - val_accuracy: 0.7247\n",
      "Epoch 6/50\n",
      "501/501 [==============================] - 9s 19ms/step - loss: 0.4842 - accuracy: 0.8348 - val_loss: 0.8606 - val_accuracy: 0.7195\n",
      "Epoch 7/50\n",
      "501/501 [==============================] - 9s 19ms/step - loss: 0.4435 - accuracy: 0.8489 - val_loss: 0.9705 - val_accuracy: 0.7214\n",
      "Epoch 8/50\n",
      "501/501 [==============================] - 9s 19ms/step - loss: 0.4187 - accuracy: 0.8595 - val_loss: 0.8989 - val_accuracy: 0.7188\n",
      "Epoch 9/50\n",
      "501/501 [==============================] - 10s 19ms/step - loss: 0.3803 - accuracy: 0.8758 - val_loss: 1.0038 - val_accuracy: 0.7240\n",
      "Epoch 10/50\n",
      "501/501 [==============================] - 9s 19ms/step - loss: 0.3905 - accuracy: 0.8818 - val_loss: 1.0863 - val_accuracy: 0.7132\n",
      "Epoch 11/50\n",
      "501/501 [==============================] - 9s 19ms/step - loss: 0.3676 - accuracy: 0.8854 - val_loss: 1.0094 - val_accuracy: 0.7032\n",
      "Epoch 12/50\n",
      "501/501 [==============================] - 9s 19ms/step - loss: 0.3298 - accuracy: 0.9011 - val_loss: 1.1108 - val_accuracy: 0.7062\n",
      "Epoch 13/50\n",
      "501/501 [==============================] - 9s 19ms/step - loss: 0.3134 - accuracy: 0.9063 - val_loss: 1.1129 - val_accuracy: 0.6879\n",
      "Epoch 14/50\n",
      "501/501 [==============================] - 9s 19ms/step - loss: 0.2910 - accuracy: 0.9136 - val_loss: 1.0675 - val_accuracy: 0.6893\n",
      "Epoch 15/50\n",
      "501/501 [==============================] - 9s 19ms/step - loss: 0.2596 - accuracy: 0.9255 - val_loss: 1.2625 - val_accuracy: 0.7115\n",
      "Epoch 16/50\n",
      "501/501 [==============================] - 9s 19ms/step - loss: 0.2423 - accuracy: 0.9325 - val_loss: 1.3680 - val_accuracy: 0.7002\n",
      "Epoch 17/50\n",
      "501/501 [==============================] - 9s 19ms/step - loss: 0.2440 - accuracy: 0.9339 - val_loss: 1.3801 - val_accuracy: 0.6916\n",
      "Epoch 18/50\n",
      "501/501 [==============================] - 9s 19ms/step - loss: 0.2213 - accuracy: 0.9388 - val_loss: 1.7533 - val_accuracy: 0.7093\n",
      "Epoch 19/50\n",
      "501/501 [==============================] - 10s 19ms/step - loss: 0.2183 - accuracy: 0.9411 - val_loss: 1.8818 - val_accuracy: 0.5953\n",
      "Epoch 20/50\n",
      "501/501 [==============================] - 10s 20ms/step - loss: 0.2850 - accuracy: 0.9130 - val_loss: 1.4516 - val_accuracy: 0.6992\n",
      "Epoch 21/50\n",
      "501/501 [==============================] - 11s 22ms/step - loss: 0.1853 - accuracy: 0.9556 - val_loss: 1.6618 - val_accuracy: 0.7140\n",
      "Epoch 22/50\n",
      "501/501 [==============================] - 12s 25ms/step - loss: 0.1935 - accuracy: 0.9526 - val_loss: 2.3002 - val_accuracy: 0.5556\n",
      "Epoch 23/50\n",
      "501/501 [==============================] - 12s 25ms/step - loss: 0.2034 - accuracy: 0.9474 - val_loss: 1.7570 - val_accuracy: 0.6511\n",
      "Epoch 24/50\n",
      "501/501 [==============================] - 12s 24ms/step - loss: 0.1972 - accuracy: 0.9496 - val_loss: 1.4081 - val_accuracy: 0.6909\n",
      "Epoch 25/50\n",
      "501/501 [==============================] - 12s 24ms/step - loss: 0.1813 - accuracy: 0.9561 - val_loss: 1.5359 - val_accuracy: 0.7175\n",
      "Epoch 26/50\n",
      "501/501 [==============================] - 12s 24ms/step - loss: 0.1829 - accuracy: 0.9526 - val_loss: 1.6379 - val_accuracy: 0.7188\n",
      "Epoch 27/50\n",
      "501/501 [==============================] - 12s 24ms/step - loss: 0.1727 - accuracy: 0.9563 - val_loss: 1.8715 - val_accuracy: 0.7054\n",
      "Epoch 28/50\n",
      "501/501 [==============================] - 12s 24ms/step - loss: 0.1885 - accuracy: 0.9549 - val_loss: 1.8644 - val_accuracy: 0.6886\n",
      "Epoch 29/50\n",
      "501/501 [==============================] - 12s 25ms/step - loss: 0.1639 - accuracy: 0.9617 - val_loss: 1.6594 - val_accuracy: 0.6960\n",
      "Epoch 30/50\n",
      "501/501 [==============================] - 13s 25ms/step - loss: 0.1617 - accuracy: 0.9627 - val_loss: 1.7793 - val_accuracy: 0.6725\n",
      "Epoch 31/50\n",
      "501/501 [==============================] - 13s 25ms/step - loss: 0.1758 - accuracy: 0.9554 - val_loss: 1.7400 - val_accuracy: 0.7026\n",
      "Epoch 32/50\n",
      "501/501 [==============================] - 12s 25ms/step - loss: 0.1569 - accuracy: 0.9662 - val_loss: 1.8641 - val_accuracy: 0.7055\n",
      "Epoch 33/50\n",
      "501/501 [==============================] - 12s 25ms/step - loss: 0.1839 - accuracy: 0.9584 - val_loss: 1.5368 - val_accuracy: 0.6965\n",
      "Epoch 34/50\n",
      "501/501 [==============================] - 12s 25ms/step - loss: 0.1528 - accuracy: 0.9679 - val_loss: 1.9319 - val_accuracy: 0.7131\n",
      "Epoch 35/50\n",
      "501/501 [==============================] - 13s 25ms/step - loss: 0.1605 - accuracy: 0.9640 - val_loss: 1.5083 - val_accuracy: 0.7032\n",
      "Epoch 36/50\n",
      "501/501 [==============================] - 12s 25ms/step - loss: 0.1439 - accuracy: 0.9689 - val_loss: 2.0127 - val_accuracy: 0.6663\n",
      "Epoch 37/50\n",
      "501/501 [==============================] - 13s 25ms/step - loss: 0.1533 - accuracy: 0.9646 - val_loss: 1.7881 - val_accuracy: 0.6883\n",
      "Epoch 38/50\n",
      "501/501 [==============================] - 12s 24ms/step - loss: 0.1632 - accuracy: 0.9613 - val_loss: 1.5389 - val_accuracy: 0.6865\n",
      "Epoch 39/50\n",
      "501/501 [==============================] - 12s 25ms/step - loss: 0.1474 - accuracy: 0.9669 - val_loss: 2.0775 - val_accuracy: 0.7077\n",
      "Epoch 40/50\n",
      "501/501 [==============================] - 12s 24ms/step - loss: 0.1477 - accuracy: 0.9668 - val_loss: 1.9357 - val_accuracy: 0.6845\n",
      "Epoch 41/50\n",
      "501/501 [==============================] - 12s 24ms/step - loss: 0.1540 - accuracy: 0.9666 - val_loss: 2.0674 - val_accuracy: 0.6376\n",
      "Epoch 42/50\n",
      "501/501 [==============================] - 12s 24ms/step - loss: 0.1530 - accuracy: 0.9671 - val_loss: 1.8710 - val_accuracy: 0.6922\n",
      "Epoch 43/50\n",
      "501/501 [==============================] - 12s 24ms/step - loss: 0.1394 - accuracy: 0.9701 - val_loss: 1.9878 - val_accuracy: 0.6800\n",
      "Epoch 44/50\n",
      "501/501 [==============================] - 12s 24ms/step - loss: 0.1540 - accuracy: 0.9653 - val_loss: 1.7984 - val_accuracy: 0.6775\n",
      "Epoch 45/50\n",
      "501/501 [==============================] - 12s 24ms/step - loss: 0.1376 - accuracy: 0.9716 - val_loss: 1.9386 - val_accuracy: 0.6879\n",
      "Epoch 46/50\n",
      "501/501 [==============================] - 12s 24ms/step - loss: 0.1569 - accuracy: 0.9659 - val_loss: 2.0291 - val_accuracy: 0.6568\n",
      "Epoch 47/50\n",
      "501/501 [==============================] - 12s 24ms/step - loss: 0.1238 - accuracy: 0.9768 - val_loss: 1.8712 - val_accuracy: 0.6558\n",
      "Epoch 48/50\n",
      "501/501 [==============================] - 12s 24ms/step - loss: 0.1704 - accuracy: 0.9591 - val_loss: 1.5148 - val_accuracy: 0.6822\n",
      "Epoch 49/50\n",
      "501/501 [==============================] - 12s 25ms/step - loss: 0.1380 - accuracy: 0.9703 - val_loss: 2.0302 - val_accuracy: 0.6572\n",
      "Epoch 50/50\n",
      "501/501 [==============================] - 11s 23ms/step - loss: 0.1438 - accuracy: 0.9694 - val_loss: 1.9493 - val_accuracy: 0.7024\n"
     ]
    }
   ],
   "source": [
    "mlp = model.fit(X_train, y_train, epochs=50, batch_size=32, validation_data=(X_val, y_val)\n",
    "                #  , sample_weight=sample_weights\n",
    "                )"
   ]
  },
  {
   "cell_type": "code",
   "execution_count": 163,
   "metadata": {},
   "outputs": [
    {
     "data": {
      "image/png": "[encoded data removed]",
      "text/plain": [
       "<Figure size 640x480 with 1 Axes>"
      ]
     },
     "metadata": {},
     "output_type": "display_data"
    }
   ],
   "source": [
    "import matplotlib.pyplot as plt\n",
    "\n",
    "plt.figure()\n",
    "plt.plot(mlp.history['loss'], label='Training Loss')\n",
    "plt.plot(mlp.history['val_loss'], label='Validation Loss')\n",
    "plt.xlabel('Epoch')\n",
    "plt.ylabel('Loss')\n",
    "plt.legend()\n",
    "plt.title('Learning Curve')\n",
    "\n",
    "plt.plot(mlp.history['accuracy'], label='Training Accuracy')\n",
    "plt.plot(mlp.history['val_accuracy'], label='Validation Accuracy')\n",
    "plt.xlabel('Epoch')\n",
    "plt.ylabel('Accuracy/Loss')\n",
    "plt.legend(loc='upper left')\n",
    "\n",
    "\n",
    "plt.show()"
   ]
  },
  {
   "cell_type": "code",
   "execution_count": null,
   "metadata": {},
   "outputs": [],
   "source": [
    "type(selected_features)"
   ]
  },
  {
   "cell_type": "code",
   "execution_count": 71,
   "metadata": {},
   "outputs": [],
   "source": [
    "# for variance_ratio slection\n",
    "import tensorflow as tf\n",
    "coo_matrix = selected_features_test.tocoo()\n",
    "indices = np.column_stack((coo_matrix.row, coo_matrix.col))\n",
    "values = coo_matrix.data\n",
    "shape = coo_matrix.shape\n",
    "\n",
    "sparse_tensor = tf.SparseTensor(indices=indices, values=values, dense_shape=shape)\n",
    "ordered_sparse_tensor = tf.sparse.reorder(sparse_tensor)"
   ]
  },
  {
   "cell_type": "code",
   "execution_count": 150,
   "metadata": {},
   "outputs": [
    {
     "name": "stdout",
     "output_type": "stream",
     "text": [
      "215/215 [==============================] - 0s 2ms/step\n"
     ]
    }
   ],
   "source": [
    "# validation\n",
    "prediction_prob = model.predict(X_val)"
   ]
  },
  {
   "cell_type": "code",
   "execution_count": 151,
   "metadata": {},
   "outputs": [],
   "source": [
    "# get predictions\n",
    "prediction_index = np.argmax(prediction_prob, axis=1)\n",
    "ratings = np.array([3.0, 4.0, 5.0])\n",
    "prediction = ratings[prediction_index]\n",
    "\n"
   ]
  },
  {
   "cell_type": "code",
   "execution_count": 152,
   "metadata": {},
   "outputs": [],
   "source": [
    "np_y_val = y_val.values\n",
    "validation_index = np.argmax(np_y_val, axis=1)\n",
    "ratings = np.array([3.0, 4.0, 5.0])\n",
    "validation = ratings[validation_index]"
   ]
  },
  {
   "attachments": {},
   "cell_type": "markdown",
   "metadata": {},
   "source": [
    "Evaluation"
   ]
  },
  {
   "cell_type": "code",
   "execution_count": 153,
   "metadata": {},
   "outputs": [
    {
     "name": "stdout",
     "output_type": "stream",
     "text": [
      "Accuracy: 70.55%\n",
      "F1 score: 69.15%\n",
      "Recall: 70.55%\n",
      "Precision: 68.66%\n"
     ]
    }
   ],
   "source": [
    "print(\"Accuracy: %.2f%%\" % (accuracy_score(validation, prediction) * 100.0))\n",
    "print(\"F1 score: %.2f%%\" % (f1_score(validation, prediction, average='weighted') * 100.0))\n",
    "print(\"Recall: %.2f%%\" % (recall_score(validation, prediction, average='weighted') * 100.0))\n",
    "print(\"Precision: %.2f%%\" % (precision_score(validation, prediction, average='weighted') * 100.0))"
   ]
  },
  {
   "cell_type": "code",
   "execution_count": 23,
   "metadata": {},
   "outputs": [],
   "source": [
    "output_df = pd.DataFrame({'rating_label': prediction})\n",
    "output_df.index += 1\n",
    "output_df.index.name = 'id'\n",
    "output_df.to_csv('./predictions.csv')"
   ]
  },
  {
   "attachments": {},
   "cell_type": "markdown",
   "metadata": {},
   "source": [
    "MLP Bagging"
   ]
  },
  {
   "cell_type": "code",
   "execution_count": 13,
   "metadata": {},
   "outputs": [
    {
     "name": "stdout",
     "output_type": "stream",
     "text": [
      "Accuracy: 0.76\n"
     ]
    }
   ],
   "source": [
    "import numpy as np\n",
    "from sklearn.datasets import load_iris\n",
    "from sklearn.model_selection import train_test_split\n",
    "from sklearn.ensemble import BaggingClassifier\n",
    "from sklearn.neural_network import MLPClassifier\n",
    "from sklearn.metrics import accuracy_score\n",
    "\n",
    "\n"
   ]
  },
  {
   "cell_type": "code",
   "execution_count": 14,
   "metadata": {},
   "outputs": [
    {
     "name": "stdout",
     "output_type": "stream",
     "text": [
      "Accuracy: 0.76\n"
     ]
    }
   ],
   "source": [
    "X_train, X_test, y_train, y_test = train_test_split(selected_features, train_df[\"rating_label\"], test_size=0.3, random_state=42)\n",
    "\n",
    "\n",
    "mlp = MLPClassifier(hidden_layer_sizes=(100,), activation='relu', solver='adam', alpha=0.0001, \n",
    "                    batch_size='auto', learning_rate='constant', learning_rate_init=0.001, \n",
    "                    max_iter=200, shuffle=True, random_state=None)\n",
    "\n",
    "\n",
    "bagging = BaggingClassifier(base_estimator=mlp, n_estimators=10, max_samples=0.8, max_features=1.0, \n",
    "                            bootstrap=True, bootstrap_features=False, n_jobs=-1, random_state=42)\n",
    "\n",
    "\n",
    "bagging.fit(X_train, y_train)\n",
    "\n",
    "y_pred = bagging.predict(X_test)\n",
    "accuracy = accuracy_score(y_test, y_pred)\n",
    "print(f\"Accuracy: {accuracy:.2f}\")"
   ]
  },
  {
   "cell_type": "code",
   "execution_count": 18,
   "metadata": {},
   "outputs": [],
   "source": [
    "y_pred = bagging.predict(selected_features_test)\n",
    "output_df = pd.DataFrame({'rating_label': y_pred})\n",
    "output_df.index += 1\n",
    "output_df.index.name = 'id'\n",
    "output_df.to_csv('./predictions.csv')"
   ]
  },
  {
   "attachments": {},
   "cell_type": "markdown",
   "metadata": {},
   "source": [
    "sklearn MLP"
   ]
  },
  {
   "cell_type": "code",
   "execution_count": 17,
   "metadata": {},
   "outputs": [
    {
     "ename": "NameError",
     "evalue": "name 'MLPClassifier' is not defined",
     "output_type": "error",
     "traceback": [
      "\u001b[1;31m---------------------------------------------------------------------------\u001b[0m",
      "\u001b[1;31mNameError\u001b[0m                                 Traceback (most recent call last)",
      "\u001b[1;32m~\\AppData\\Local\\Temp\\ipykernel_25164\\387747742.py\u001b[0m in \u001b[0;36m<module>\u001b[1;34m\u001b[0m\n\u001b[1;32m----> 1\u001b[1;33m mlp = MLPClassifier(hidden_layer_sizes=(100,), activation='relu', solver='adam', alpha=0.0001, \n\u001b[0m\u001b[0;32m      2\u001b[0m                     \u001b[0mbatch_size\u001b[0m\u001b[1;33m=\u001b[0m\u001b[1;34m'auto'\u001b[0m\u001b[1;33m,\u001b[0m \u001b[0mlearning_rate\u001b[0m\u001b[1;33m=\u001b[0m\u001b[1;34m'constant'\u001b[0m\u001b[1;33m,\u001b[0m \u001b[0mlearning_rate_init\u001b[0m\u001b[1;33m=\u001b[0m\u001b[1;36m0.001\u001b[0m\u001b[1;33m,\u001b[0m\u001b[1;33m\u001b[0m\u001b[1;33m\u001b[0m\u001b[0m\n\u001b[0;32m      3\u001b[0m                      shuffle=True, random_state=None)\n",
      "\u001b[1;31mNameError\u001b[0m: name 'MLPClassifier' is not defined"
     ]
    }
   ],
   "source": [
    "mlp = MLPClassifier(hidden_layer_sizes=(100,), activation='relu', solver='adam', alpha=0.0001, \n",
    "                    batch_size='auto', learning_rate='constant', learning_rate_init=0.001, \n",
    "                     shuffle=True, random_state=None)"
   ]
  },
  {
   "cell_type": "code",
   "execution_count": null,
   "metadata": {},
   "outputs": [],
   "source": []
  }
 ],
 "metadata": {
  "kernelspec": {
   "display_name": "base",
   "language": "python",
   "name": "python3"
  },
  "language_info": {
   "codemirror_mode": {
    "name": "ipython",
    "version": 3
   },
   "file_extension": ".py",
   "mimetype": "text/x-python",
   "name": "python",
   "nbconvert_exporter": "python",
   "pygments_lexer": "ipython3",
   "version": "3.9.13"
  },
  "orig_nbformat": 4
 },
 "nbformat": 4,
 "nbformat_minor": 2
}
