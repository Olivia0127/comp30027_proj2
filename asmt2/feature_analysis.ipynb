{
 "cells": [
  {
   "cell_type": "code",
   "execution_count": 2,
   "metadata": {},
   "outputs": [],
   "source": [
    "import pandas as pd\n",
    "import matplotlib as plt"
   ]
  },
  {
   "cell_type": "code",
   "execution_count": 3,
   "metadata": {},
   "outputs": [],
   "source": [
    "# import data\n",
    "train_df = pd.read_csv(\"./project_data_files/book_rating_train.csv\")\n",
    "test_df = pd.read_csv(\"./project_data_files/book_rating_test.csv\")"
   ]
  },
  {
   "attachments": {},
   "cell_type": "markdown",
   "metadata": {},
   "source": [
    "Languge and label"
   ]
  },
  {
   "cell_type": "code",
   "execution_count": null,
   "metadata": {},
   "outputs": [],
   "source": [
    "train_df[\"Language\"].value_counts()"
   ]
  },
  {
   "cell_type": "code",
   "execution_count": 5,
   "metadata": {},
   "outputs": [
    {
     "data": {
      "text/plain": [
       "4.0    16208\n",
       "3.0     5864\n",
       "5.0      991\n",
       "Name: rating_label, dtype: int64"
      ]
     },
     "execution_count": 5,
     "metadata": {},
     "output_type": "execute_result"
    }
   ],
   "source": [
    "# label distribution\n",
    "train_df[\"rating_label\"].value_counts()"
   ]
  },
  {
   "cell_type": "code",
   "execution_count": 6,
   "metadata": {},
   "outputs": [
    {
     "data": {
      "text/plain": [
       "Name             object\n",
       "Authors          object\n",
       "PublishYear       int64\n",
       "PublishMonth      int64\n",
       "PublishDay        int64\n",
       "Publisher        object\n",
       "Language         object\n",
       "pagesNumber       int64\n",
       "Description      object\n",
       "rating_label    float64\n",
       "dtype: object"
      ]
     },
     "execution_count": 6,
     "metadata": {},
     "output_type": "execute_result"
    }
   ],
   "source": [
    "# feature types\n",
    "train_df.dtypes"
   ]
  },
  {
   "cell_type": "code",
   "execution_count": 7,
   "metadata": {},
   "outputs": [
    {
     "name": "stdout",
     "output_type": "stream",
     "text": [
      "Name            False\n",
      "Authors         False\n",
      "PublishYear     False\n",
      "PublishMonth    False\n",
      "PublishDay      False\n",
      "Publisher        True\n",
      "Language         True\n",
      "pagesNumber     False\n",
      "Description     False\n",
      "rating_label    False\n",
      "dtype: bool\n",
      "Name            False\n",
      "Authors         False\n",
      "PublishYear     False\n",
      "PublishMonth    False\n",
      "PublishDay      False\n",
      "Publisher        True\n",
      "Language         True\n",
      "pagesNumber     False\n",
      "Description     False\n",
      "dtype: bool\n"
     ]
    }
   ],
   "source": [
    "# nan data\n",
    "nan_columns_train = train_df.isna().any()\n",
    "nan_columns_test = test_df.isna().any()\n",
    "\n",
    "print(nan_columns_train)\n",
    "print(nan_columns_test)"
   ]
  },
  {
   "cell_type": "code",
   "execution_count": 4,
   "metadata": {},
   "outputs": [
    {
     "name": "stdout",
     "output_type": "stream",
     "text": [
      "Number of zeros: 196\n"
     ]
    }
   ],
   "source": [
    "zero_count = (train_df['pagesNumber'] == 0).sum()\n",
    "print('Number of zeros:', zero_count)"
   ]
  },
  {
   "cell_type": "code",
   "execution_count": 36,
   "metadata": {},
   "outputs": [
    {
     "data": {
      "text/plain": [
       "Max Lucado    6\n",
       "Name: Authors, dtype: int64"
      ]
     },
     "execution_count": 36,
     "metadata": {},
     "output_type": "execute_result"
    }
   ],
   "source": [
    "train_df.loc[\n",
    "    (train_df[\"rating_label\"] ==5) & (train_df[\"Authors\"] == \"Max Lucado\"),'Authors'\n",
    "].value_counts()"
   ]
  },
  {
   "cell_type": "code",
   "execution_count": 21,
   "metadata": {},
   "outputs": [
    {
     "data": {
      "text/plain": [
       "Authors                   rating_label\n",
       "\"Sailor\" Bob Adamson      4.0             1.0\n",
       "50 Cent                   4.0             1.0\n",
       "A'Darius Bell             4.0             1.0\n",
       "A. Bothwell-Gosse         3.0             1.0\n",
       "A. Hillary Steinhart      4.0             1.0\n",
       "                                         ... \n",
       "ابن رشد                   5.0             1.0\n",
       "سید روح الله موسوی خمینی  4.0             1.0\n",
       "محمد بن إسماعيل البخاري   5.0             1.0\n",
       "聖嚴法師                      4.0             1.0\n",
       "館尾 冽                      4.0             1.0\n",
       "Name: rating_label, Length: 17275, dtype: float64"
      ]
     },
     "execution_count": 21,
     "metadata": {},
     "output_type": "execute_result"
    }
   ],
   "source": [
    "train_df.groupby(['Authors'])['rating_label'].value_counts(normalize=True)"
   ]
  },
  {
   "attachments": {},
   "cell_type": "markdown",
   "metadata": {},
   "source": [
    "Publisher and label"
   ]
  }
 ],
 "metadata": {
  "kernelspec": {
   "display_name": "base",
   "language": "python",
   "name": "python3"
  },
  "language_info": {
   "codemirror_mode": {
    "name": "ipython",
    "version": 3
   },
   "file_extension": ".py",
   "mimetype": "text/x-python",
   "name": "python",
   "nbconvert_exporter": "python",
   "pygments_lexer": "ipython3",
   "version": "3.9.13"
  },
  "orig_nbformat": 4
 },
 "nbformat": 4,
 "nbformat_minor": 2
}
